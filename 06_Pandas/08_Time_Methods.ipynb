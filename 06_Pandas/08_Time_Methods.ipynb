{
 "cells": [
  {
   "cell_type": "markdown",
   "id": "0aa87f45",
   "metadata": {},
   "source": [
    "#### Python DateTime"
   ]
  },
  {
   "cell_type": "code",
   "execution_count": 1,
   "id": "e25f4bd1",
   "metadata": {},
   "outputs": [],
   "source": [
    "from datetime import datetime"
   ]
  },
  {
   "cell_type": "code",
   "execution_count": 2,
   "id": "db23c642",
   "metadata": {},
   "outputs": [],
   "source": [
    "my_year = 2024\n",
    "my_month = 6\n",
    "my_day = 19\n",
    "my_hour = 19\n",
    "my_minute = 11\n",
    "my_sec = 30"
   ]
  },
  {
   "cell_type": "code",
   "execution_count": 4,
   "id": "362fde76",
   "metadata": {},
   "outputs": [],
   "source": [
    "todays_date = datetime(year = my_year,month=my_month,day=my_day)"
   ]
  },
  {
   "cell_type": "code",
   "execution_count": 5,
   "id": "8823a1b5",
   "metadata": {},
   "outputs": [
    {
     "data": {
      "text/plain": [
       "datetime.datetime(2024, 6, 19, 0, 0)"
      ]
     },
     "execution_count": 5,
     "metadata": {},
     "output_type": "execute_result"
    }
   ],
   "source": [
    "todays_date"
   ]
  },
  {
   "cell_type": "code",
   "execution_count": 6,
   "id": "abb6a9cb",
   "metadata": {},
   "outputs": [],
   "source": [
    "todays_dt = datetime(year = my_year,month=my_month,day=my_day,hour = my_hour,minute = my_minute)"
   ]
  },
  {
   "cell_type": "code",
   "execution_count": 7,
   "id": "17ae6c2d",
   "metadata": {},
   "outputs": [
    {
     "data": {
      "text/plain": [
       "datetime.datetime(2024, 6, 19, 19, 11)"
      ]
     },
     "execution_count": 7,
     "metadata": {},
     "output_type": "execute_result"
    }
   ],
   "source": [
    "todays_dt"
   ]
  },
  {
   "cell_type": "code",
   "execution_count": 8,
   "id": "e0a78813",
   "metadata": {},
   "outputs": [
    {
     "data": {
      "text/plain": [
       "19"
      ]
     },
     "execution_count": 8,
     "metadata": {},
     "output_type": "execute_result"
    }
   ],
   "source": [
    "todays_dt.day"
   ]
  },
  {
   "cell_type": "code",
   "execution_count": 11,
   "id": "447a66c5",
   "metadata": {},
   "outputs": [
    {
     "data": {
      "text/plain": [
       "3"
      ]
     },
     "execution_count": 11,
     "metadata": {},
     "output_type": "execute_result"
    }
   ],
   "source": [
    "todays_dt.isoweekday()"
   ]
  },
  {
   "cell_type": "code",
   "execution_count": 12,
   "id": "2138685c",
   "metadata": {},
   "outputs": [
    {
     "data": {
      "text/plain": [
       "datetime.IsoCalendarDate(year=2024, week=25, weekday=3)"
      ]
     },
     "execution_count": 12,
     "metadata": {},
     "output_type": "execute_result"
    }
   ],
   "source": [
    "todays_dt.isocalendar()"
   ]
  },
  {
   "cell_type": "markdown",
   "id": "6a8adf3d",
   "metadata": {},
   "source": [
    "#### Convert to Datetime"
   ]
  },
  {
   "cell_type": "code",
   "execution_count": 13,
   "id": "aa554fbe",
   "metadata": {},
   "outputs": [
    {
     "data": {
      "text/plain": [
       "0    Nov 3, 2024\n",
       "1     2024-06-19\n",
       "2           None\n",
       "dtype: object"
      ]
     },
     "execution_count": 13,
     "metadata": {},
     "output_type": "execute_result"
    }
   ],
   "source": [
    "import pandas as pd\n",
    "myseries = pd.Series(['Nov 3, 2024','2024-06-19',None])\n",
    "myseries"
   ]
  },
  {
   "cell_type": "code",
   "execution_count": 15,
   "id": "5b754150",
   "metadata": {},
   "outputs": [
    {
     "data": {
      "text/plain": [
       "str"
      ]
     },
     "execution_count": 15,
     "metadata": {},
     "output_type": "execute_result"
    }
   ],
   "source": [
    "type(myseries[0])"
   ]
  },
  {
   "cell_type": "code",
   "execution_count": 16,
   "id": "13cb7da1",
   "metadata": {},
   "outputs": [
    {
     "data": {
      "text/plain": [
       "0   2024-11-03\n",
       "1   2024-06-19\n",
       "2          NaT\n",
       "dtype: datetime64[ns]"
      ]
     },
     "execution_count": 16,
     "metadata": {},
     "output_type": "execute_result"
    }
   ],
   "source": [
    "pd.to_datetime(myseries,format='mixed')"
   ]
  },
  {
   "cell_type": "code",
   "execution_count": 17,
   "id": "af64a263",
   "metadata": {},
   "outputs": [
    {
     "data": {
      "text/plain": [
       "Timestamp('2024-11-03 00:00:00')"
      ]
     },
     "execution_count": 17,
     "metadata": {},
     "output_type": "execute_result"
    }
   ],
   "source": [
    "pd.to_datetime(myseries,format='mixed')[0]"
   ]
  },
  {
   "cell_type": "code",
   "execution_count": 23,
   "id": "c6620e29",
   "metadata": {},
   "outputs": [],
   "source": [
    "sample_date = '10-12-2000'\n",
    "\n",
    "#10th of Dec or 12th of October?"
   ]
  },
  {
   "cell_type": "code",
   "execution_count": 26,
   "id": "15419021",
   "metadata": {},
   "outputs": [
    {
     "data": {
      "text/plain": [
       "Timestamp('2000-12-10 00:00:00')"
      ]
     },
     "execution_count": 26,
     "metadata": {},
     "output_type": "execute_result"
    }
   ],
   "source": [
    "pd.to_datetime(sample_date, dayfirst=True)"
   ]
  },
  {
   "cell_type": "markdown",
   "id": "1bc667e7",
   "metadata": {},
   "source": [
    "#### Custom Time String Formats"
   ]
  },
  {
   "cell_type": "code",
   "execution_count": 30,
   "id": "64dbc62a",
   "metadata": {},
   "outputs": [],
   "source": [
    "stylish_date = '12//Jan-*2024'"
   ]
  },
  {
   "cell_type": "code",
   "execution_count": 31,
   "id": "0ccfbefd",
   "metadata": {},
   "outputs": [
    {
     "data": {
      "text/plain": [
       "Timestamp('2024-01-12 00:00:00')"
      ]
     },
     "execution_count": 31,
     "metadata": {},
     "output_type": "execute_result"
    }
   ],
   "source": [
    "pd.to_datetime(stylish_date, format='%d//%b-*%Y')"
   ]
  },
  {
   "cell_type": "markdown",
   "id": "f62c08ce",
   "metadata": {},
   "source": [
    "#### DataSet"
   ]
  },
  {
   "cell_type": "code",
   "execution_count": 33,
   "id": "ef5a4261",
   "metadata": {},
   "outputs": [],
   "source": [
    "sales = pd.read_csv('RetailSales_BeerWineLiquor.csv')"
   ]
  },
  {
   "cell_type": "code",
   "execution_count": 34,
   "id": "427439da",
   "metadata": {},
   "outputs": [
    {
     "name": "stdout",
     "output_type": "stream",
     "text": [
      "<class 'pandas.core.frame.DataFrame'>\n",
      "RangeIndex: 340 entries, 0 to 339\n",
      "Data columns (total 2 columns):\n",
      " #   Column         Non-Null Count  Dtype \n",
      "---  ------         --------------  ----- \n",
      " 0   DATE           340 non-null    object\n",
      " 1   MRTSSM4453USN  340 non-null    int64 \n",
      "dtypes: int64(1), object(1)\n",
      "memory usage: 5.4+ KB\n"
     ]
    }
   ],
   "source": [
    "sales.info()"
   ]
  },
  {
   "cell_type": "code",
   "execution_count": 37,
   "id": "590f40bc",
   "metadata": {},
   "outputs": [],
   "source": [
    "sales['DATE']= pd.to_datetime(sales['DATE'])"
   ]
  },
  {
   "cell_type": "code",
   "execution_count": 39,
   "id": "fe580046",
   "metadata": {},
   "outputs": [
    {
     "data": {
      "text/plain": [
       "Timestamp('1992-01-01 00:00:00')"
      ]
     },
     "execution_count": 39,
     "metadata": {},
     "output_type": "execute_result"
    }
   ],
   "source": [
    "sales.iloc[0]['DATE']"
   ]
  },
  {
   "cell_type": "code",
   "execution_count": 41,
   "id": "71570102",
   "metadata": {},
   "outputs": [],
   "source": [
    "sales['Month']=sales['DATE'].dt.month"
   ]
  },
  {
   "cell_type": "code",
   "execution_count": 45,
   "id": "3aebaa53",
   "metadata": {},
   "outputs": [
    {
     "data": {
      "text/html": [
       "<div>\n",
       "<style scoped>\n",
       "    .dataframe tbody tr th:only-of-type {\n",
       "        vertical-align: middle;\n",
       "    }\n",
       "\n",
       "    .dataframe tbody tr th {\n",
       "        vertical-align: top;\n",
       "    }\n",
       "\n",
       "    .dataframe thead th {\n",
       "        text-align: right;\n",
       "    }\n",
       "</style>\n",
       "<table border=\"1\" class=\"dataframe\">\n",
       "  <thead>\n",
       "    <tr style=\"text-align: right;\">\n",
       "      <th></th>\n",
       "      <th>DATE</th>\n",
       "      <th>MRTSSM4453USN</th>\n",
       "      <th>Month</th>\n",
       "    </tr>\n",
       "  </thead>\n",
       "  <tbody>\n",
       "    <tr>\n",
       "      <th>335</th>\n",
       "      <td>2019-12-01</td>\n",
       "      <td>6630</td>\n",
       "      <td>12</td>\n",
       "    </tr>\n",
       "    <tr>\n",
       "      <th>336</th>\n",
       "      <td>2020-01-01</td>\n",
       "      <td>4388</td>\n",
       "      <td>1</td>\n",
       "    </tr>\n",
       "    <tr>\n",
       "      <th>337</th>\n",
       "      <td>2020-02-01</td>\n",
       "      <td>4533</td>\n",
       "      <td>2</td>\n",
       "    </tr>\n",
       "    <tr>\n",
       "      <th>338</th>\n",
       "      <td>2020-03-01</td>\n",
       "      <td>5562</td>\n",
       "      <td>3</td>\n",
       "    </tr>\n",
       "    <tr>\n",
       "      <th>339</th>\n",
       "      <td>2020-04-01</td>\n",
       "      <td>5207</td>\n",
       "      <td>4</td>\n",
       "    </tr>\n",
       "  </tbody>\n",
       "</table>\n",
       "</div>"
      ],
      "text/plain": [
       "          DATE  MRTSSM4453USN  Month\n",
       "335 2019-12-01           6630     12\n",
       "336 2020-01-01           4388      1\n",
       "337 2020-02-01           4533      2\n",
       "338 2020-03-01           5562      3\n",
       "339 2020-04-01           5207      4"
      ]
     },
     "execution_count": 45,
     "metadata": {},
     "output_type": "execute_result"
    }
   ],
   "source": [
    "sales.tail()"
   ]
  },
  {
   "cell_type": "code",
   "execution_count": 48,
   "id": "afa145eb",
   "metadata": {},
   "outputs": [],
   "source": [
    "#help(sales['DATE'].dt)"
   ]
  },
  {
   "cell_type": "code",
   "execution_count": 44,
   "id": "d101d06e",
   "metadata": {},
   "outputs": [
    {
     "data": {
      "text/plain": [
       "0       1\n",
       "1       5\n",
       "2       9\n",
       "3      14\n",
       "4      18\n",
       "       ..\n",
       "335    48\n",
       "336     1\n",
       "337     5\n",
       "338     9\n",
       "339    14\n",
       "Name: week, Length: 340, dtype: UInt32"
      ]
     },
     "execution_count": 44,
     "metadata": {},
     "output_type": "execute_result"
    }
   ],
   "source": [
    "sales['DATE'].dt.isocalendar().week"
   ]
  },
  {
   "cell_type": "code",
   "execution_count": 47,
   "id": "ebc832c3",
   "metadata": {},
   "outputs": [
    {
     "data": {
      "text/plain": [
       "0       January\n",
       "1      February\n",
       "2         March\n",
       "3         April\n",
       "4           May\n",
       "         ...   \n",
       "335    December\n",
       "336     January\n",
       "337    February\n",
       "338       March\n",
       "339       April\n",
       "Name: DATE, Length: 340, dtype: object"
      ]
     },
     "execution_count": 47,
     "metadata": {},
     "output_type": "execute_result"
    }
   ],
   "source": [
    "sales['DATE'].dt.month_name()"
   ]
  },
  {
   "cell_type": "code",
   "execution_count": null,
   "id": "6c74bb33",
   "metadata": {},
   "outputs": [],
   "source": []
  }
 ],
 "metadata": {
  "kernelspec": {
   "display_name": "Python 3 (ipykernel)",
   "language": "python",
   "name": "python3"
  },
  "language_info": {
   "codemirror_mode": {
    "name": "ipython",
    "version": 3
   },
   "file_extension": ".py",
   "mimetype": "text/x-python",
   "name": "python",
   "nbconvert_exporter": "python",
   "pygments_lexer": "ipython3",
   "version": "3.11.5"
  }
 },
 "nbformat": 4,
 "nbformat_minor": 5
}
