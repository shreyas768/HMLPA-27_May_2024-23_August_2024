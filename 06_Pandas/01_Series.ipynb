{
 "cells": [
  {
   "cell_type": "code",
   "execution_count": 1,
   "id": "fee15b3a",
   "metadata": {},
   "outputs": [],
   "source": [
    "import numpy as np\n",
    "import pandas as pd"
   ]
  },
  {
   "cell_type": "code",
   "execution_count": 3,
   "id": "94d61368",
   "metadata": {},
   "outputs": [],
   "source": [
    "#help(pd.Series)"
   ]
  },
  {
   "cell_type": "markdown",
   "id": "6f9e2965",
   "metadata": {},
   "source": [
    "#### Create Series from python objects"
   ]
  },
  {
   "cell_type": "code",
   "execution_count": 4,
   "id": "0be577db",
   "metadata": {},
   "outputs": [],
   "source": [
    "my_ind = ['India','Canada','Burma']\n",
    "my_data = [1947,1867,1948]"
   ]
  },
  {
   "cell_type": "code",
   "execution_count": 5,
   "id": "9679dbed",
   "metadata": {},
   "outputs": [
    {
     "data": {
      "text/plain": [
       "0    1947\n",
       "1    1867\n",
       "2    1948\n",
       "dtype: int64"
      ]
     },
     "execution_count": 5,
     "metadata": {},
     "output_type": "execute_result"
    }
   ],
   "source": [
    "my_ser = pd.Series(data=my_data)\n",
    "my_ser"
   ]
  },
  {
   "cell_type": "code",
   "execution_count": 6,
   "id": "452ac162",
   "metadata": {},
   "outputs": [
    {
     "data": {
      "text/plain": [
       "India     1947\n",
       "Canada    1867\n",
       "Burma     1948\n",
       "dtype: int64"
      ]
     },
     "execution_count": 6,
     "metadata": {},
     "output_type": "execute_result"
    }
   ],
   "source": [
    "my_ser1 = pd.Series(data=my_data, index=my_ind)\n",
    "my_ser1"
   ]
  },
  {
   "cell_type": "code",
   "execution_count": 8,
   "id": "32f5527b",
   "metadata": {},
   "outputs": [],
   "source": [
    "random_data = np.random.randint(100,150,4)"
   ]
  },
  {
   "cell_type": "code",
   "execution_count": 9,
   "id": "47ca3a40",
   "metadata": {},
   "outputs": [],
   "source": [
    "names=['MP','RJ','WB','KL']"
   ]
  },
  {
   "cell_type": "code",
   "execution_count": 10,
   "id": "583f9d67",
   "metadata": {},
   "outputs": [
    {
     "data": {
      "text/plain": [
       "MP    107\n",
       "RJ    144\n",
       "WB    112\n",
       "KL    139\n",
       "dtype: int64"
      ]
     },
     "execution_count": 10,
     "metadata": {},
     "output_type": "execute_result"
    }
   ],
   "source": [
    "pd.Series(random_data,names)"
   ]
  },
  {
   "cell_type": "code",
   "execution_count": 11,
   "id": "296d3002",
   "metadata": {},
   "outputs": [
    {
     "data": {
      "text/plain": [
       "107    MP\n",
       "144    RJ\n",
       "112    WB\n",
       "139    KL\n",
       "dtype: object"
      ]
     },
     "execution_count": 11,
     "metadata": {},
     "output_type": "execute_result"
    }
   ],
   "source": [
    "pd.Series(names,random_data)"
   ]
  },
  {
   "cell_type": "code",
   "execution_count": 12,
   "id": "6fa81928",
   "metadata": {},
   "outputs": [
    {
     "data": {
      "text/plain": [
       "MP    107\n",
       "RJ    144\n",
       "WB    112\n",
       "KL    139\n",
       "dtype: int64"
      ]
     },
     "execution_count": 12,
     "metadata": {},
     "output_type": "execute_result"
    }
   ],
   "source": [
    "pd.Series(index=names,data=random_data)"
   ]
  },
  {
   "cell_type": "code",
   "execution_count": 13,
   "id": "83a92ce5",
   "metadata": {},
   "outputs": [
    {
     "data": {
      "text/plain": [
       "Akshit     20\n",
       "Thesna     28\n",
       "Vijay      32\n",
       "Mallika    24\n",
       "dtype: int64"
      ]
     },
     "execution_count": 13,
     "metadata": {},
     "output_type": "execute_result"
    }
   ],
   "source": [
    "ages = {'Akshit':20,'Thesna':28,'Vijay':32,'Mallika':24}\n",
    "pd.Series(ages)"
   ]
  },
  {
   "cell_type": "markdown",
   "id": "5e119634",
   "metadata": {},
   "source": [
    "#### Key Ideas"
   ]
  },
  {
   "cell_type": "code",
   "execution_count": 14,
   "id": "38a5d6c9",
   "metadata": {},
   "outputs": [],
   "source": [
    "y1 = {'J':80,'C':450,'I':200,'V':250}\n",
    "y2 = {'A':100,'C':500,'I':210,'V':260}"
   ]
  },
  {
   "cell_type": "code",
   "execution_count": 15,
   "id": "ea06f685",
   "metadata": {},
   "outputs": [],
   "source": [
    "ser_y1 = pd.Series(y1)\n",
    "ser_y2 = pd.Series(y2)"
   ]
  },
  {
   "cell_type": "code",
   "execution_count": 16,
   "id": "001ea040",
   "metadata": {},
   "outputs": [
    {
     "data": {
      "text/plain": [
       "J     80\n",
       "C    450\n",
       "I    200\n",
       "V    250\n",
       "dtype: int64"
      ]
     },
     "execution_count": 16,
     "metadata": {},
     "output_type": "execute_result"
    }
   ],
   "source": [
    "ser_y1"
   ]
  },
  {
   "cell_type": "code",
   "execution_count": 17,
   "id": "9ded6477",
   "metadata": {},
   "outputs": [
    {
     "data": {
      "text/plain": [
       "A    100\n",
       "C    500\n",
       "I    210\n",
       "V    260\n",
       "dtype: int64"
      ]
     },
     "execution_count": 17,
     "metadata": {},
     "output_type": "execute_result"
    }
   ],
   "source": [
    "ser_y2"
   ]
  },
  {
   "cell_type": "code",
   "execution_count": 18,
   "id": "96225fc5",
   "metadata": {},
   "outputs": [
    {
     "data": {
      "text/plain": [
       "200"
      ]
     },
     "execution_count": 18,
     "metadata": {},
     "output_type": "execute_result"
    }
   ],
   "source": [
    "#call values based on index names\n",
    "ser_y1['I']"
   ]
  },
  {
   "cell_type": "code",
   "execution_count": 20,
   "id": "5c89ac22",
   "metadata": {},
   "outputs": [
    {
     "name": "stderr",
     "output_type": "stream",
     "text": [
      "/var/folders/wl/v3x3g82n3b38s3cvwvtr0r7h0000gn/T/ipykernel_64344/2038621265.py:2: FutureWarning: Series.__getitem__ treating keys as positions is deprecated. In a future version, integer keys will always be treated as labels (consistent with DataFrame behavior). To access a value by position, use `ser.iloc[pos]`\n",
      "  ser_y1[2]\n"
     ]
    },
    {
     "data": {
      "text/plain": [
       "200"
      ]
     },
     "execution_count": 20,
     "metadata": {},
     "output_type": "execute_result"
    }
   ],
   "source": [
    "#Integer based location is also retained\n",
    "ser_y1[2]"
   ]
  },
  {
   "cell_type": "code",
   "execution_count": 21,
   "id": "bb78718f",
   "metadata": {},
   "outputs": [
    {
     "data": {
      "text/plain": [
       "Index(['J', 'C', 'I', 'V'], dtype='object')"
      ]
     },
     "execution_count": 21,
     "metadata": {},
     "output_type": "execute_result"
    }
   ],
   "source": [
    "ser_y1.keys()"
   ]
  },
  {
   "cell_type": "code",
   "execution_count": 22,
   "id": "e9457beb",
   "metadata": {},
   "outputs": [
    {
     "data": {
      "text/plain": [
       "J     240\n",
       "C    1350\n",
       "I     600\n",
       "V     750\n",
       "dtype: int64"
      ]
     },
     "execution_count": 22,
     "metadata": {},
     "output_type": "execute_result"
    }
   ],
   "source": [
    "ser_y1*3"
   ]
  },
  {
   "cell_type": "code",
   "execution_count": 23,
   "id": "b335380f",
   "metadata": {},
   "outputs": [
    {
     "data": {
      "text/plain": [
       "J     80\n",
       "C    450\n",
       "I    200\n",
       "V    250\n",
       "dtype: int64"
      ]
     },
     "execution_count": 23,
     "metadata": {},
     "output_type": "execute_result"
    }
   ],
   "source": [
    "ser_y1"
   ]
  },
  {
   "cell_type": "markdown",
   "id": "219414b6",
   "metadata": {},
   "source": [
    "#### Between the two Series"
   ]
  },
  {
   "cell_type": "code",
   "execution_count": 25,
   "id": "11947011",
   "metadata": {},
   "outputs": [
    {
     "data": {
      "text/plain": [
       "A      NaN\n",
       "C    950.0\n",
       "I    410.0\n",
       "J      NaN\n",
       "V    510.0\n",
       "dtype: float64"
      ]
     },
     "execution_count": 25,
     "metadata": {},
     "output_type": "execute_result"
    }
   ],
   "source": [
    "ser_y1 + ser_y2\n",
    "\n",
    "#pandas informs that there is a mismatch"
   ]
  },
  {
   "cell_type": "code",
   "execution_count": 27,
   "id": "404aa97b",
   "metadata": {},
   "outputs": [
    {
     "data": {
      "text/plain": [
       "J     80\n",
       "C    450\n",
       "I    200\n",
       "V    250\n",
       "dtype: int64"
      ]
     },
     "execution_count": 27,
     "metadata": {},
     "output_type": "execute_result"
    }
   ],
   "source": [
    "ser_y1"
   ]
  },
  {
   "cell_type": "code",
   "execution_count": 28,
   "id": "553b1b92",
   "metadata": {},
   "outputs": [
    {
     "data": {
      "text/plain": [
       "A    100\n",
       "C    500\n",
       "I    210\n",
       "V    260\n",
       "dtype: int64"
      ]
     },
     "execution_count": 28,
     "metadata": {},
     "output_type": "execute_result"
    }
   ],
   "source": [
    "ser_y2"
   ]
  },
  {
   "cell_type": "code",
   "execution_count": 30,
   "id": "176c2f76",
   "metadata": {},
   "outputs": [
    {
     "data": {
      "text/plain": [
       "A    9900.0\n",
       "C     -50.0\n",
       "I     -10.0\n",
       "J   -9920.0\n",
       "V     -10.0\n",
       "dtype: float64"
      ]
     },
     "execution_count": 30,
     "metadata": {},
     "output_type": "execute_result"
    }
   ],
   "source": [
    "ser_y1.subtract(ser_y2,fill_value=10000)"
   ]
  },
  {
   "cell_type": "code",
   "execution_count": null,
   "id": "d3b54b68",
   "metadata": {},
   "outputs": [],
   "source": []
  }
 ],
 "metadata": {
  "kernelspec": {
   "display_name": "Python 3 (ipykernel)",
   "language": "python",
   "name": "python3"
  },
  "language_info": {
   "codemirror_mode": {
    "name": "ipython",
    "version": 3
   },
   "file_extension": ".py",
   "mimetype": "text/x-python",
   "name": "python",
   "nbconvert_exporter": "python",
   "pygments_lexer": "ipython3",
   "version": "3.11.5"
  }
 },
 "nbformat": 4,
 "nbformat_minor": 5
}
