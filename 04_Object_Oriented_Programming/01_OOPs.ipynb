{
 "cells": [
  {
   "cell_type": "code",
   "execution_count": 3,
   "id": "73a7d9d1",
   "metadata": {},
   "outputs": [
    {
     "name": "stdout",
     "output_type": "stream",
     "text": [
      "<class 'list'>\n"
     ]
    }
   ],
   "source": [
    "print(type([]))"
   ]
  },
  {
   "cell_type": "code",
   "execution_count": 4,
   "id": "aed45522",
   "metadata": {},
   "outputs": [],
   "source": [
    "#create a new object type called as Sample\n",
    "class Sample:\n",
    "    pass"
   ]
  },
  {
   "cell_type": "code",
   "execution_count": 7,
   "id": "27bd09e4",
   "metadata": {},
   "outputs": [
    {
     "name": "stdout",
     "output_type": "stream",
     "text": [
      "<__main__.Sample object at 0x1115eb210>\n"
     ]
    }
   ],
   "source": [
    "x = Sample()\n",
    "print(x)"
   ]
  },
  {
   "cell_type": "markdown",
   "id": "7699af34",
   "metadata": {},
   "source": [
    "#### Attribute"
   ]
  },
  {
   "cell_type": "code",
   "execution_count": 8,
   "id": "52b032b8",
   "metadata": {},
   "outputs": [],
   "source": [
    "class Dog:\n",
    "    def __init__(self,breed):\n",
    "        \n",
    "        self.breed = breed"
   ]
  },
  {
   "cell_type": "code",
   "execution_count": 9,
   "id": "119e5321",
   "metadata": {},
   "outputs": [],
   "source": [
    "jackie = Dog(breed = 'Huskie')\n",
    "tiger = Dog(breed = 'Lab')"
   ]
  },
  {
   "cell_type": "code",
   "execution_count": 10,
   "id": "b15576ce",
   "metadata": {},
   "outputs": [
    {
     "ename": "TypeError",
     "evalue": "Dog.__init__() missing 1 required positional argument: 'breed'",
     "output_type": "error",
     "traceback": [
      "\u001b[0;31m---------------------------------------------------------------------------\u001b[0m",
      "\u001b[0;31mTypeError\u001b[0m                                 Traceback (most recent call last)",
      "Cell \u001b[0;32mIn[10], line 1\u001b[0m\n\u001b[0;32m----> 1\u001b[0m hi \u001b[38;5;241m=\u001b[39m Dog()\n",
      "\u001b[0;31mTypeError\u001b[0m: Dog.__init__() missing 1 required positional argument: 'breed'"
     ]
    }
   ],
   "source": [
    "hi = Dog()"
   ]
  },
  {
   "cell_type": "code",
   "execution_count": 11,
   "id": "ce46b6c5",
   "metadata": {},
   "outputs": [
    {
     "data": {
      "text/plain": [
       "__main__.Dog"
      ]
     },
     "execution_count": 11,
     "metadata": {},
     "output_type": "execute_result"
    }
   ],
   "source": [
    "type(jackie)"
   ]
  },
  {
   "cell_type": "code",
   "execution_count": 14,
   "id": "0a26d9a5",
   "metadata": {},
   "outputs": [
    {
     "data": {
      "text/plain": [
       "'Huskie'"
      ]
     },
     "execution_count": 14,
     "metadata": {},
     "output_type": "execute_result"
    }
   ],
   "source": [
    "jackie.breed  #no parentheses means it is an attribute"
   ]
  },
  {
   "cell_type": "code",
   "execution_count": 13,
   "id": "a5285145",
   "metadata": {},
   "outputs": [
    {
     "data": {
      "text/plain": [
       "'Lab'"
      ]
     },
     "execution_count": 13,
     "metadata": {},
     "output_type": "execute_result"
    }
   ],
   "source": [
    "tiger.breed"
   ]
  },
  {
   "cell_type": "code",
   "execution_count": 20,
   "id": "99969bc0",
   "metadata": {},
   "outputs": [],
   "source": [
    "class Dog:\n",
    "    species = 'territorial mammal' #class object attribute\n",
    "    def __init__(self,breed, name = 'tuffy'):\n",
    "        \n",
    "        self.breed = breed\n",
    "        self.name = name"
   ]
  },
  {
   "cell_type": "code",
   "execution_count": 17,
   "id": "695310ff",
   "metadata": {},
   "outputs": [],
   "source": [
    "sam = Dog(breed='Lab',name= 'Sam')"
   ]
  },
  {
   "cell_type": "code",
   "execution_count": 24,
   "id": "9523b7aa",
   "metadata": {},
   "outputs": [],
   "source": [
    "sam1 = Dog(breed='Huskie', name = 'greedy')"
   ]
  },
  {
   "cell_type": "code",
   "execution_count": 25,
   "id": "60f4bc4b",
   "metadata": {},
   "outputs": [
    {
     "data": {
      "text/plain": [
       "'greedy'"
      ]
     },
     "execution_count": 25,
     "metadata": {},
     "output_type": "execute_result"
    }
   ],
   "source": [
    "sam1.name"
   ]
  },
  {
   "cell_type": "code",
   "execution_count": 18,
   "id": "1f7de5d2",
   "metadata": {},
   "outputs": [
    {
     "data": {
      "text/plain": [
       "'Sam'"
      ]
     },
     "execution_count": 18,
     "metadata": {},
     "output_type": "execute_result"
    }
   ],
   "source": [
    "sam.name"
   ]
  },
  {
   "cell_type": "code",
   "execution_count": 19,
   "id": "9e710a03",
   "metadata": {},
   "outputs": [
    {
     "data": {
      "text/plain": [
       "'territorial mammal'"
      ]
     },
     "execution_count": 19,
     "metadata": {},
     "output_type": "execute_result"
    }
   ],
   "source": [
    "sam.species"
   ]
  },
  {
   "cell_type": "markdown",
   "id": "45f259a1",
   "metadata": {},
   "source": [
    "### Methods"
   ]
  },
  {
   "cell_type": "code",
   "execution_count": 26,
   "id": "7bab1e45",
   "metadata": {},
   "outputs": [],
   "source": [
    "class Circle:\n",
    "    \n",
    "    pi = 22/7\n",
    "    \n",
    "    def __init__(self,radius = 1):\n",
    "        self.radius = radius\n",
    "        self.area = radius*radius*Circle.pi"
   ]
  },
  {
   "cell_type": "code",
   "execution_count": 27,
   "id": "17cc8b48",
   "metadata": {},
   "outputs": [],
   "source": [
    "c = Circle()"
   ]
  },
  {
   "cell_type": "code",
   "execution_count": 28,
   "id": "059608f2",
   "metadata": {},
   "outputs": [
    {
     "data": {
      "text/plain": [
       "3.142857142857143"
      ]
     },
     "execution_count": 28,
     "metadata": {},
     "output_type": "execute_result"
    }
   ],
   "source": [
    "c.area"
   ]
  },
  {
   "cell_type": "code",
   "execution_count": 29,
   "id": "51797eff",
   "metadata": {},
   "outputs": [
    {
     "data": {
      "text/plain": [
       "3.142857142857143"
      ]
     },
     "execution_count": 29,
     "metadata": {},
     "output_type": "execute_result"
    }
   ],
   "source": [
    "c.pi"
   ]
  },
  {
   "cell_type": "code",
   "execution_count": 30,
   "id": "9f60a6b8",
   "metadata": {},
   "outputs": [
    {
     "data": {
      "text/plain": [
       "1"
      ]
     },
     "execution_count": 30,
     "metadata": {},
     "output_type": "execute_result"
    }
   ],
   "source": [
    "c.radius"
   ]
  },
  {
   "cell_type": "code",
   "execution_count": 34,
   "id": "dde446a3",
   "metadata": {},
   "outputs": [],
   "source": [
    "class Circle1:\n",
    "    \n",
    "    pi = 22/7\n",
    "    \n",
    "    def __init__(self,radius = 1):\n",
    "        self.radius = radius\n",
    "        self.area = radius*radius*Circle.pi\n",
    "        \n",
    "    #method\n",
    "    \n",
    "    def setRadius(self,updated_radius):\n",
    "        self.radius = updated_radius\n",
    "        self.area = updated_radius*updated_radius*Circle.pi"
   ]
  },
  {
   "cell_type": "code",
   "execution_count": 35,
   "id": "2796c66e",
   "metadata": {},
   "outputs": [],
   "source": [
    "c1 = Circle1()"
   ]
  },
  {
   "cell_type": "code",
   "execution_count": 36,
   "id": "d32dffc8",
   "metadata": {},
   "outputs": [
    {
     "data": {
      "text/plain": [
       "3.142857142857143"
      ]
     },
     "execution_count": 36,
     "metadata": {},
     "output_type": "execute_result"
    }
   ],
   "source": [
    "c1.area"
   ]
  },
  {
   "cell_type": "code",
   "execution_count": 37,
   "id": "b7d8be72",
   "metadata": {},
   "outputs": [
    {
     "data": {
      "text/plain": [
       "<bound method Circle1.setRadius of <__main__.Circle1 object at 0x1313cb390>>"
      ]
     },
     "execution_count": 37,
     "metadata": {},
     "output_type": "execute_result"
    }
   ],
   "source": [
    "c1.setRadius"
   ]
  },
  {
   "cell_type": "code",
   "execution_count": 38,
   "id": "48baa97c",
   "metadata": {},
   "outputs": [],
   "source": [
    "c1.setRadius(updated_radius=6)"
   ]
  },
  {
   "cell_type": "code",
   "execution_count": 39,
   "id": "2404dfa2",
   "metadata": {},
   "outputs": [
    {
     "data": {
      "text/plain": [
       "113.14285714285714"
      ]
     },
     "execution_count": 39,
     "metadata": {},
     "output_type": "execute_result"
    }
   ],
   "source": [
    "c1.area"
   ]
  },
  {
   "cell_type": "code",
   "execution_count": 40,
   "id": "b0f5b7b6",
   "metadata": {},
   "outputs": [
    {
     "data": {
      "text/plain": [
       "6"
      ]
     },
     "execution_count": 40,
     "metadata": {},
     "output_type": "execute_result"
    }
   ],
   "source": [
    "c1.radius"
   ]
  },
  {
   "cell_type": "code",
   "execution_count": 41,
   "id": "8ac32bc1",
   "metadata": {},
   "outputs": [
    {
     "data": {
      "text/plain": [
       "3.142857142857143"
      ]
     },
     "execution_count": 41,
     "metadata": {},
     "output_type": "execute_result"
    }
   ],
   "source": [
    "c1.pi"
   ]
  },
  {
   "cell_type": "code",
   "execution_count": 47,
   "id": "a5765927",
   "metadata": {},
   "outputs": [],
   "source": [
    "class Circle2:\n",
    "    \n",
    "    pi = 22/7\n",
    "    \n",
    "    def __init__(self,radius = 1):\n",
    "        self.radius = radius\n",
    "        self.area = radius*radius*Circle2.pi\n",
    "        \n",
    "    #method\n",
    "    \n",
    "    def setRadius(self,updated_radius):\n",
    "        self.radius = updated_radius\n",
    "        self.area = updated_radius*updated_radius*Circle2.pi\n",
    "        \n",
    "    #method for circumference\n",
    "    \n",
    "    def GetCircum(self):\n",
    "        return self.radius*self.pi*2"
   ]
  },
  {
   "cell_type": "code",
   "execution_count": 48,
   "id": "ecb0e8ce",
   "metadata": {},
   "outputs": [],
   "source": [
    "c9 = Circle2()"
   ]
  },
  {
   "cell_type": "code",
   "execution_count": 49,
   "id": "6584588e",
   "metadata": {},
   "outputs": [
    {
     "data": {
      "text/plain": [
       "1"
      ]
     },
     "execution_count": 49,
     "metadata": {},
     "output_type": "execute_result"
    }
   ],
   "source": [
    "c9.radius"
   ]
  },
  {
   "cell_type": "code",
   "execution_count": 50,
   "id": "398bbdc1",
   "metadata": {},
   "outputs": [
    {
     "data": {
      "text/plain": [
       "3.142857142857143"
      ]
     },
     "execution_count": 50,
     "metadata": {},
     "output_type": "execute_result"
    }
   ],
   "source": [
    "c9.area"
   ]
  },
  {
   "cell_type": "code",
   "execution_count": 51,
   "id": "9879588a",
   "metadata": {},
   "outputs": [
    {
     "data": {
      "text/plain": [
       "6.285714285714286"
      ]
     },
     "execution_count": 51,
     "metadata": {},
     "output_type": "execute_result"
    }
   ],
   "source": [
    "c9.GetCircum()"
   ]
  },
  {
   "cell_type": "code",
   "execution_count": 52,
   "id": "2306b13c",
   "metadata": {},
   "outputs": [],
   "source": [
    "c9.setRadius(updated_radius=5)"
   ]
  },
  {
   "cell_type": "code",
   "execution_count": 53,
   "id": "4cd78c41",
   "metadata": {},
   "outputs": [
    {
     "data": {
      "text/plain": [
       "5"
      ]
     },
     "execution_count": 53,
     "metadata": {},
     "output_type": "execute_result"
    }
   ],
   "source": [
    "c9.radius"
   ]
  },
  {
   "cell_type": "code",
   "execution_count": 54,
   "id": "c896dffe",
   "metadata": {},
   "outputs": [
    {
     "data": {
      "text/plain": [
       "78.57142857142857"
      ]
     },
     "execution_count": 54,
     "metadata": {},
     "output_type": "execute_result"
    }
   ],
   "source": [
    "c9.area"
   ]
  },
  {
   "cell_type": "code",
   "execution_count": 55,
   "id": "3be3af2f",
   "metadata": {},
   "outputs": [
    {
     "data": {
      "text/plain": [
       "31.428571428571427"
      ]
     },
     "execution_count": 55,
     "metadata": {},
     "output_type": "execute_result"
    }
   ],
   "source": [
    "c9.GetCircum()"
   ]
  },
  {
   "cell_type": "code",
   "execution_count": 56,
   "id": "b8df35f4",
   "metadata": {},
   "outputs": [
    {
     "ename": "AttributeError",
     "evalue": "'Circle2' object has no attribute 'cicumference'",
     "output_type": "error",
     "traceback": [
      "\u001b[0;31m---------------------------------------------------------------------------\u001b[0m",
      "\u001b[0;31mAttributeError\u001b[0m                            Traceback (most recent call last)",
      "Cell \u001b[0;32mIn[56], line 1\u001b[0m\n\u001b[0;32m----> 1\u001b[0m c9\u001b[38;5;241m.\u001b[39mcicumference\n",
      "\u001b[0;31mAttributeError\u001b[0m: 'Circle2' object has no attribute 'cicumference'"
     ]
    }
   ],
   "source": [
    "c9.cicumference"
   ]
  },
  {
   "cell_type": "code",
   "execution_count": 71,
   "id": "743bdfa7",
   "metadata": {},
   "outputs": [],
   "source": [
    "class Circle3:\n",
    "    \n",
    "    pi = 22/7\n",
    "    \n",
    "    def __init__(self,radius = 1):\n",
    "        self.radius = radius\n",
    "        self.area = radius*radius*Circle3.pi\n",
    "        self.circumference = 2*Circle3.pi*radius\n",
    "        \n",
    "    #method\n",
    "    \n",
    "    def setRadius(self,updated_radius):\n",
    "        self.radius = updated_radius\n",
    "        self.area = updated_radius*updated_radius*Circle3.pi\n",
    "        self.circumference = 2*Circle3.pi*updated_radius\n",
    "        \n",
    "    #method for circumference\n",
    "    \n",
    "    def GetCircum(self):\n",
    "        return self.radius*self.pi*2"
   ]
  },
  {
   "cell_type": "code",
   "execution_count": 72,
   "id": "4e0629a9",
   "metadata": {},
   "outputs": [],
   "source": [
    "c30 = Circle3()"
   ]
  },
  {
   "cell_type": "code",
   "execution_count": 73,
   "id": "52026073",
   "metadata": {},
   "outputs": [
    {
     "data": {
      "text/plain": [
       "6.285714285714286"
      ]
     },
     "execution_count": 73,
     "metadata": {},
     "output_type": "execute_result"
    }
   ],
   "source": [
    "c30.circumference"
   ]
  },
  {
   "cell_type": "code",
   "execution_count": 74,
   "id": "17d78d08",
   "metadata": {},
   "outputs": [],
   "source": [
    "c30.setRadius(updated_radius=9)"
   ]
  },
  {
   "cell_type": "code",
   "execution_count": 75,
   "id": "d61771cb",
   "metadata": {},
   "outputs": [
    {
     "data": {
      "text/plain": [
       "56.57142857142857"
      ]
     },
     "execution_count": 75,
     "metadata": {},
     "output_type": "execute_result"
    }
   ],
   "source": [
    "c30.circumference"
   ]
  },
  {
   "cell_type": "markdown",
   "id": "93cae8ec",
   "metadata": {},
   "source": [
    "class method to accept coordinates as a pair of tuple and return the slope and distance of the line"
   ]
  },
  {
   "cell_type": "code",
   "execution_count": 6,
   "id": "1204f892",
   "metadata": {},
   "outputs": [],
   "source": [
    "class Line:\n",
    "    def __init__(self,co1, co2):\n",
    "        self.co1 = co1\n",
    "        self.co2 = co2\n",
    "    \n",
    "    def distance(self):\n",
    "        x1,y1 = self.co1\n",
    "        x2,y2 = self.co2\n",
    "        return ((x2-x1)**2 + (y2-y1)**2)**0.5\n",
    "    \n",
    "    def slope(self):\n",
    "        x1,y1 = self.co1\n",
    "        x2,y2 = self.co2\n",
    "        return (y2-y1)/(x2-x1)"
   ]
  },
  {
   "cell_type": "code",
   "execution_count": 7,
   "id": "4769760f",
   "metadata": {},
   "outputs": [
    {
     "data": {
      "text/plain": [
       "8.94427190999916"
      ]
     },
     "execution_count": 7,
     "metadata": {},
     "output_type": "execute_result"
    }
   ],
   "source": [
    "co1 = (4,2)\n",
    "co2 = (8,10)\n",
    "\n",
    "li = Line(co1,co2)\n",
    "li.distance()"
   ]
  },
  {
   "cell_type": "code",
   "execution_count": 8,
   "id": "54728813",
   "metadata": {},
   "outputs": [
    {
     "data": {
      "text/plain": [
       "2.0"
      ]
     },
     "execution_count": 8,
     "metadata": {},
     "output_type": "execute_result"
    }
   ],
   "source": [
    "li.slope()"
   ]
  },
  {
   "cell_type": "markdown",
   "id": "2b09c361",
   "metadata": {},
   "source": [
    "attributes:\n",
    "* owner\n",
    "* balance\n",
    "\n",
    "method:\n",
    "* deposit\n",
    "* withdraw\n",
    "\n",
    "* withdrawals should nt exceed the available balance"
   ]
  },
  {
   "cell_type": "code",
   "execution_count": 25,
   "id": "abf1c770",
   "metadata": {},
   "outputs": [],
   "source": [
    "class Account:\n",
    "    \n",
    "    def __init__(self, owner, balance = 0):\n",
    "        self.owner = owner\n",
    "        self.balance = balance\n",
    "        \n",
    "    def __str__(self):\n",
    "        return f'Account Holder: {self.owner}\\nAccount Balance: Rs.{self.balance}'\n",
    "    \n",
    "    def deposit(self,dep_amt):\n",
    "        self.balance = self.balance + dep_amt\n",
    "        print('Deposit Accepted')\n",
    "        \n",
    "    def withdraw(self, wd_amt):\n",
    "        if self.balance >= wd_amt:\n",
    "            self.balance -= wd_amt\n",
    "            print('Withdrawal Completed')\n",
    "            \n",
    "        else:\n",
    "            print('Funds unavailable')\n",
    "        "
   ]
  },
  {
   "cell_type": "code",
   "execution_count": 26,
   "id": "b2cc0338",
   "metadata": {},
   "outputs": [],
   "source": [
    "acc1 = Account('Shreyas', 1000000)"
   ]
  },
  {
   "cell_type": "code",
   "execution_count": 27,
   "id": "4aee271f",
   "metadata": {},
   "outputs": [
    {
     "name": "stdout",
     "output_type": "stream",
     "text": [
      "Account Holder: Shreyas\n",
      "Account Balance: Rs.1000000\n"
     ]
    }
   ],
   "source": [
    "print(acc1)"
   ]
  },
  {
   "cell_type": "code",
   "execution_count": 28,
   "id": "88ef8d5b",
   "metadata": {},
   "outputs": [
    {
     "data": {
      "text/plain": [
       "'Shreyas'"
      ]
     },
     "execution_count": 28,
     "metadata": {},
     "output_type": "execute_result"
    }
   ],
   "source": [
    "acc1.owner"
   ]
  },
  {
   "cell_type": "code",
   "execution_count": 29,
   "id": "550c7365",
   "metadata": {},
   "outputs": [
    {
     "data": {
      "text/plain": [
       "1000000"
      ]
     },
     "execution_count": 29,
     "metadata": {},
     "output_type": "execute_result"
    }
   ],
   "source": [
    "acc1.balance"
   ]
  },
  {
   "cell_type": "code",
   "execution_count": 30,
   "id": "8c7c825b",
   "metadata": {},
   "outputs": [
    {
     "name": "stdout",
     "output_type": "stream",
     "text": [
      "Account Holder: Shreyas\n",
      "Account Balance: Rs.1000000\n"
     ]
    }
   ],
   "source": [
    "print(f'Account Holder: {acc1.owner}\\nAccount Balance: Rs.{acc1.balance}')"
   ]
  },
  {
   "cell_type": "code",
   "execution_count": 31,
   "id": "f3f05fa4",
   "metadata": {},
   "outputs": [
    {
     "name": "stdout",
     "output_type": "stream",
     "text": [
      "Deposit Accepted\n"
     ]
    }
   ],
   "source": [
    "acc1.deposit(1000)"
   ]
  },
  {
   "cell_type": "code",
   "execution_count": 32,
   "id": "ca83b3fb",
   "metadata": {},
   "outputs": [
    {
     "data": {
      "text/plain": [
       "1001000"
      ]
     },
     "execution_count": 32,
     "metadata": {},
     "output_type": "execute_result"
    }
   ],
   "source": [
    "acc1.balance"
   ]
  },
  {
   "cell_type": "code",
   "execution_count": 33,
   "id": "6679dbed",
   "metadata": {},
   "outputs": [
    {
     "name": "stdout",
     "output_type": "stream",
     "text": [
      "Withdrawal Completed\n"
     ]
    }
   ],
   "source": [
    "acc1.withdraw(100000)"
   ]
  },
  {
   "cell_type": "code",
   "execution_count": 34,
   "id": "eb0c432d",
   "metadata": {},
   "outputs": [
    {
     "data": {
      "text/plain": [
       "901000"
      ]
     },
     "execution_count": 34,
     "metadata": {},
     "output_type": "execute_result"
    }
   ],
   "source": [
    "acc1.balance"
   ]
  },
  {
   "cell_type": "code",
   "execution_count": 35,
   "id": "f154e6ca",
   "metadata": {},
   "outputs": [
    {
     "name": "stdout",
     "output_type": "stream",
     "text": [
      "Funds unavailable\n"
     ]
    }
   ],
   "source": [
    "acc1.withdraw(100000000)"
   ]
  }
 ],
 "metadata": {
  "kernelspec": {
   "display_name": "Python 3 (ipykernel)",
   "language": "python",
   "name": "python3"
  },
  "language_info": {
   "codemirror_mode": {
    "name": "ipython",
    "version": 3
   },
   "file_extension": ".py",
   "mimetype": "text/x-python",
   "name": "python",
   "nbconvert_exporter": "python",
   "pygments_lexer": "ipython3",
   "version": "3.11.5"
  }
 },
 "nbformat": 4,
 "nbformat_minor": 5
}
