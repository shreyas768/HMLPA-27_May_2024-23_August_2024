{
 "cells": [
  {
   "cell_type": "markdown",
   "id": "a81353bf",
   "metadata": {},
   "source": [
    "* iterator; it goes throught items that in a sequence or any other iterable item. strings, tuples, lists,built-in iterables in dictionaries such as keys or values"
   ]
  },
  {
   "cell_type": "code",
   "execution_count": 1,
   "id": "a138f8d4",
   "metadata": {},
   "outputs": [],
   "source": [
    "lst1 = [1,2,3,4,5,6,7,8,9,10]"
   ]
  },
  {
   "cell_type": "code",
   "execution_count": 4,
   "id": "97bf03e5",
   "metadata": {},
   "outputs": [
    {
     "name": "stdout",
     "output_type": "stream",
     "text": [
      "2\n",
      "4\n",
      "6\n",
      "8\n",
      "10\n",
      "12\n",
      "14\n",
      "16\n",
      "18\n",
      "20\n"
     ]
    }
   ],
   "source": [
    "for i in lst1:\n",
    "    print(i*2)"
   ]
  },
  {
   "cell_type": "code",
   "execution_count": 5,
   "id": "73c61b5a",
   "metadata": {},
   "outputs": [
    {
     "name": "stdout",
     "output_type": "stream",
     "text": [
      "hello how are you\n",
      "hello how are you\n",
      "hello how are you\n",
      "hello how are you\n",
      "hello how are you\n",
      "hello how are you\n",
      "hello how are you\n",
      "hello how are you\n",
      "hello how are you\n",
      "hello how are you\n"
     ]
    }
   ],
   "source": [
    "for i in lst1:\n",
    "    print('hello how are you')"
   ]
  },
  {
   "cell_type": "code",
   "execution_count": 7,
   "id": "f9c339fd",
   "metadata": {},
   "outputs": [
    {
     "data": {
      "text/plain": [
       "True"
      ]
     },
     "execution_count": 7,
     "metadata": {},
     "output_type": "execute_result"
    }
   ],
   "source": [
    "23%2 == 1"
   ]
  },
  {
   "cell_type": "code",
   "execution_count": 8,
   "id": "8e2ff68e",
   "metadata": {},
   "outputs": [
    {
     "name": "stdout",
     "output_type": "stream",
     "text": [
      "1\n",
      "3\n",
      "5\n",
      "7\n",
      "9\n"
     ]
    }
   ],
   "source": [
    "for i in lst1:\n",
    "    if i%2 == 1:\n",
    "        print(i)  #odd number"
   ]
  },
  {
   "cell_type": "code",
   "execution_count": 9,
   "id": "c22b3f85",
   "metadata": {},
   "outputs": [
    {
     "name": "stdout",
     "output_type": "stream",
     "text": [
      "Odd Number\n",
      "4\n",
      "Odd Number\n",
      "8\n",
      "Odd Number\n",
      "12\n",
      "Odd Number\n",
      "16\n",
      "Odd Number\n",
      "20\n"
     ]
    }
   ],
   "source": [
    "for i in lst1:\n",
    "    if i%2 == 1:\n",
    "        print('Odd Number')\n",
    "    else:\n",
    "        print(i*2)"
   ]
  },
  {
   "cell_type": "code",
   "execution_count": 10,
   "id": "f71e36f6",
   "metadata": {},
   "outputs": [
    {
     "data": {
      "text/plain": [
       "[1, 2, 3, 4, 5, 6, 7, 8, 9, 10]"
      ]
     },
     "execution_count": 10,
     "metadata": {},
     "output_type": "execute_result"
    }
   ],
   "source": [
    "lst1"
   ]
  },
  {
   "cell_type": "code",
   "execution_count": 12,
   "id": "9fa7eb55",
   "metadata": {},
   "outputs": [
    {
     "name": "stdout",
     "output_type": "stream",
     "text": [
      "55\n"
     ]
    }
   ],
   "source": [
    "list_sum = 0\n",
    "\n",
    "for i in lst1:\n",
    "    list_sum = list_sum + i\n",
    "\n",
    "print(list_sum)"
   ]
  },
  {
   "cell_type": "code",
   "execution_count": 13,
   "id": "e50242ea",
   "metadata": {},
   "outputs": [
    {
     "name": "stdout",
     "output_type": "stream",
     "text": [
      "T\n",
      "h\n",
      "i\n",
      "s\n",
      " \n",
      "i\n",
      "s\n",
      " \n",
      "H\n",
      "M\n",
      "L\n",
      "P\n",
      "A\n"
     ]
    }
   ],
   "source": [
    "st = 'This is HMLPA'\n",
    "\n",
    "for letter in st:\n",
    "    print(letter)"
   ]
  },
  {
   "cell_type": "code",
   "execution_count": 16,
   "id": "9fd63d59",
   "metadata": {},
   "outputs": [
    {
     "name": "stdout",
     "output_type": "stream",
     "text": [
      "[1, 4, 9, 16, 25]\n"
     ]
    }
   ],
   "source": [
    "tup = (1,2,3,4,5)\n",
    "lst = []\n",
    "for t in tup:\n",
    "    lst.append(t**2)\n",
    "print(lst)"
   ]
  },
  {
   "cell_type": "code",
   "execution_count": 15,
   "id": "d2c6c406",
   "metadata": {},
   "outputs": [
    {
     "name": "stdout",
     "output_type": "stream",
     "text": [
      "(2, 4)\n",
      "(6, 8)\n",
      "(10, 12)\n"
     ]
    }
   ],
   "source": [
    "lst2 = [(2,4),(6,8),(10,12)]\n",
    "\n",
    "for t1 in lst2:\n",
    "    print(t1)"
   ]
  },
  {
   "cell_type": "code",
   "execution_count": 17,
   "id": "6bb8e1b0",
   "metadata": {},
   "outputs": [
    {
     "name": "stdout",
     "output_type": "stream",
     "text": [
      "6\n",
      "14\n",
      "22\n"
     ]
    }
   ],
   "source": [
    "#tuple unpacking\n",
    "for k,v in lst2:\n",
    "    print(k+v)"
   ]
  },
  {
   "cell_type": "code",
   "execution_count": 18,
   "id": "5375e750",
   "metadata": {},
   "outputs": [
    {
     "data": {
      "text/plain": [
       "{'k1': 1, 'k2': 2, 'k3': 3}"
      ]
     },
     "execution_count": 18,
     "metadata": {},
     "output_type": "execute_result"
    }
   ],
   "source": [
    "d = {'k1':1,'k2':2,'k3':3}\n",
    "d"
   ]
  },
  {
   "cell_type": "code",
   "execution_count": 19,
   "id": "276d9624",
   "metadata": {},
   "outputs": [
    {
     "data": {
      "text/plain": [
       "dict_items([('k1', 1), ('k2', 2), ('k3', 3)])"
      ]
     },
     "execution_count": 19,
     "metadata": {},
     "output_type": "execute_result"
    }
   ],
   "source": [
    "d.items()"
   ]
  },
  {
   "cell_type": "code",
   "execution_count": 20,
   "id": "8e7fd894",
   "metadata": {},
   "outputs": [
    {
     "name": "stdout",
     "output_type": "stream",
     "text": [
      "k1\n",
      "1\n",
      "k2\n",
      "2\n",
      "k3\n",
      "3\n"
     ]
    }
   ],
   "source": [
    "for k,v in d.items():\n",
    "    print(k)\n",
    "    print(v)"
   ]
  },
  {
   "cell_type": "code",
   "execution_count": 32,
   "id": "936471b3",
   "metadata": {},
   "outputs": [
    {
     "data": {
      "text/plain": [
       "'Machine Learning is the most used technology these days due to its ability to automate tasks, detect patterns and learn from Data. Python is the language that is extensively used in Machine Learning & Data Analytics applications. Therefore, this course is designed for students/researchers/faculties/working professionals in such a way that they can first learn the fundamentals of Python and its libraries required for the Data Analytics & Machine Learning Applications. Then, they will be taught a detailed course on Machine Learning starting from scratch. This course will make the participants efficient in using Python Libraries and Machine Learning models for various real-world applications. The skills acquired from this course along with the certification will enhance their employability and will open doors to exciting career prospects.'"
      ]
     },
     "execution_count": 32,
     "metadata": {},
     "output_type": "execute_result"
    }
   ],
   "source": [
    "st = 'Machine Learning is the most used technology these days due to its ability to automate tasks, detect patterns and learn from Data. Python is the language that is extensively used in Machine Learning & Data Analytics applications. Therefore, this course is designed for students/researchers/faculties/working professionals in such a way that they can first learn the fundamentals of Python and its libraries required for the Data Analytics & Machine Learning Applications. Then, they will be taught a detailed course on Machine Learning starting from scratch. This course will make the participants efficient in using Python Libraries and Machine Learning models for various real-world applications. The skills acquired from this course along with the certification will enhance their employability and will open doors to exciting career prospects.'\n",
    "st"
   ]
  },
  {
   "cell_type": "code",
   "execution_count": 33,
   "id": "7701a799",
   "metadata": {},
   "outputs": [],
   "source": [
    "lst = []\n",
    "for i in st.replace('.','').replace(',','').replace('/',' ').split():\n",
    "    lst.append(len(i))"
   ]
  },
  {
   "cell_type": "code",
   "execution_count": 34,
   "id": "b0f80886",
   "metadata": {},
   "outputs": [
    {
     "data": {
      "text/plain": [
       "[7,\n",
       " 8,\n",
       " 2,\n",
       " 3,\n",
       " 4,\n",
       " 4,\n",
       " 10,\n",
       " 5,\n",
       " 4,\n",
       " 3,\n",
       " 2,\n",
       " 3,\n",
       " 7,\n",
       " 2,\n",
       " 8,\n",
       " 5,\n",
       " 6,\n",
       " 8,\n",
       " 3,\n",
       " 5,\n",
       " 4,\n",
       " 4,\n",
       " 6,\n",
       " 2,\n",
       " 3,\n",
       " 8,\n",
       " 4,\n",
       " 2,\n",
       " 11,\n",
       " 4,\n",
       " 2,\n",
       " 7,\n",
       " 8,\n",
       " 1,\n",
       " 4,\n",
       " 9,\n",
       " 12,\n",
       " 9,\n",
       " 4,\n",
       " 6,\n",
       " 2,\n",
       " 8,\n",
       " 3,\n",
       " 8,\n",
       " 11,\n",
       " 9,\n",
       " 7,\n",
       " 13,\n",
       " 2,\n",
       " 4,\n",
       " 1,\n",
       " 3,\n",
       " 4,\n",
       " 4,\n",
       " 3,\n",
       " 5,\n",
       " 5,\n",
       " 3,\n",
       " 12,\n",
       " 2,\n",
       " 6,\n",
       " 3,\n",
       " 3,\n",
       " 9,\n",
       " 8,\n",
       " 3,\n",
       " 3,\n",
       " 4,\n",
       " 9,\n",
       " 1,\n",
       " 7,\n",
       " 8,\n",
       " 12,\n",
       " 4,\n",
       " 4,\n",
       " 4,\n",
       " 2,\n",
       " 6,\n",
       " 1,\n",
       " 8,\n",
       " 6,\n",
       " 2,\n",
       " 7,\n",
       " 8,\n",
       " 8,\n",
       " 4,\n",
       " 7,\n",
       " 4,\n",
       " 6,\n",
       " 4,\n",
       " 4,\n",
       " 3,\n",
       " 12,\n",
       " 9,\n",
       " 2,\n",
       " 5,\n",
       " 6,\n",
       " 9,\n",
       " 3,\n",
       " 7,\n",
       " 8,\n",
       " 6,\n",
       " 3,\n",
       " 7,\n",
       " 10,\n",
       " 12,\n",
       " 3,\n",
       " 6,\n",
       " 8,\n",
       " 4,\n",
       " 4,\n",
       " 6,\n",
       " 5,\n",
       " 4,\n",
       " 3,\n",
       " 13,\n",
       " 4,\n",
       " 7,\n",
       " 5,\n",
       " 13,\n",
       " 3,\n",
       " 4,\n",
       " 4,\n",
       " 5,\n",
       " 2,\n",
       " 8,\n",
       " 6,\n",
       " 9]"
      ]
     },
     "execution_count": 34,
     "metadata": {},
     "output_type": "execute_result"
    }
   ],
   "source": [
    "lst"
   ]
  },
  {
   "cell_type": "markdown",
   "id": "1354d1b5",
   "metadata": {},
   "source": [
    "* print only words of even length\n",
    "\n",
    "* write a program that prints the integers from 1 to 100 and for multiples of 3, print 'HMLPA' instead of the number, for multiples of 5, print 'Shreyas' instead of the number and multiple of both 3 and 5 print 'Bingo!!'"
   ]
  },
  {
   "cell_type": "code",
   "execution_count": 27,
   "id": "ad8d8a3a",
   "metadata": {},
   "outputs": [
    {
     "name": "stdout",
     "output_type": "stream",
     "text": [
      "Enter something hereHey This has been excellent journey so far\n"
     ]
    }
   ],
   "source": []
  },
  {
   "cell_type": "code",
   "execution_count": 29,
   "id": "1b0db21e",
   "metadata": {},
   "outputs": [
    {
     "name": "stdout",
     "output_type": "stream",
     "text": [
      "been  -->> even length\n",
      "so  -->> even length\n",
      "This  -->> even length\n"
     ]
    }
   ],
   "source": [
    "for i in set(st.replace('.','').replace(',','').replace('/',' ').split()):\n",
    "    if len(i)%2 == 0:\n",
    "        print(i + '  -->> even length')"
   ]
  },
  {
   "cell_type": "code",
   "execution_count": 25,
   "id": "eddd769b",
   "metadata": {},
   "outputs": [
    {
     "name": "stdout",
     "output_type": "stream",
     "text": [
      "1\n",
      "2\n",
      "Shreyas\n",
      "4\n",
      "HMLPA\n",
      "Shreyas\n",
      "7\n",
      "8\n",
      "Shreyas\n",
      "HMLPA\n",
      "11\n",
      "Shreyas\n",
      "13\n",
      "14\n",
      "Bingo!!\n",
      "16\n",
      "17\n",
      "Shreyas\n",
      "19\n",
      "HMLPA\n",
      "Shreyas\n",
      "22\n",
      "23\n",
      "Shreyas\n",
      "HMLPA\n",
      "26\n",
      "Shreyas\n",
      "28\n",
      "29\n",
      "Bingo!!\n",
      "31\n",
      "32\n",
      "Shreyas\n",
      "34\n",
      "HMLPA\n",
      "Shreyas\n",
      "37\n",
      "38\n",
      "Shreyas\n",
      "HMLPA\n",
      "41\n",
      "Shreyas\n",
      "43\n",
      "44\n",
      "Bingo!!\n",
      "46\n",
      "47\n",
      "Shreyas\n",
      "49\n",
      "HMLPA\n",
      "Shreyas\n",
      "52\n",
      "53\n",
      "Shreyas\n",
      "HMLPA\n",
      "56\n",
      "Shreyas\n",
      "58\n",
      "59\n",
      "Bingo!!\n",
      "61\n",
      "62\n",
      "Shreyas\n",
      "64\n",
      "HMLPA\n",
      "Shreyas\n",
      "67\n",
      "68\n",
      "Shreyas\n",
      "HMLPA\n",
      "71\n",
      "Shreyas\n",
      "73\n",
      "74\n",
      "Bingo!!\n",
      "76\n",
      "77\n",
      "Shreyas\n",
      "79\n",
      "HMLPA\n",
      "Shreyas\n",
      "82\n",
      "83\n",
      "Shreyas\n",
      "HMLPA\n",
      "86\n",
      "Shreyas\n",
      "88\n",
      "89\n",
      "Bingo!!\n",
      "91\n",
      "92\n",
      "Shreyas\n",
      "94\n",
      "HMLPA\n",
      "Shreyas\n",
      "97\n",
      "98\n",
      "Shreyas\n"
     ]
    }
   ],
   "source": [
    "for n in range(1,100):\n",
    "    if n%3 == 0 and n%5 == 0:\n",
    "        print('Bingo!!')\n",
    "    elif n%5 == 0:\n",
    "        print('HMLPA')\n",
    "        \n",
    "    elif n%3 == 0 :\n",
    "        print('Shreyas')\n",
    "        \n",
    "    else:\n",
    "        print(n)"
   ]
  },
  {
   "cell_type": "code",
   "execution_count": null,
   "id": "3a7223b2",
   "metadata": {},
   "outputs": [],
   "source": []
  },
  {
   "cell_type": "code",
   "execution_count": null,
   "id": "3b5cec81",
   "metadata": {},
   "outputs": [],
   "source": []
  }
 ],
 "metadata": {
  "kernelspec": {
   "display_name": "Python 3 (ipykernel)",
   "language": "python",
   "name": "python3"
  },
  "language_info": {
   "codemirror_mode": {
    "name": "ipython",
    "version": 3
   },
   "file_extension": ".py",
   "mimetype": "text/x-python",
   "name": "python",
   "nbconvert_exporter": "python",
   "pygments_lexer": "ipython3",
   "version": "3.11.5"
  }
 },
 "nbformat": 4,
 "nbformat_minor": 5
}
