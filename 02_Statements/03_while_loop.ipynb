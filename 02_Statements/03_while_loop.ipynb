{
 "cells": [
  {
   "cell_type": "code",
   "execution_count": 1,
   "id": "15e4ce69",
   "metadata": {},
   "outputs": [
    {
     "name": "stdout",
     "output_type": "stream",
     "text": [
      "x is currently :  0\n",
      "x is still less than 5, so adding 1 to x\n",
      "x is currently :  1\n",
      "x is still less than 5, so adding 1 to x\n",
      "x is currently :  2\n",
      "x is still less than 5, so adding 1 to x\n",
      "x is currently :  3\n",
      "x is still less than 5, so adding 1 to x\n",
      "x is currently :  4\n",
      "x is still less than 5, so adding 1 to x\n"
     ]
    }
   ],
   "source": [
    "x = 0 \n",
    "while x < 5:\n",
    "    print('x is currently : ', x)\n",
    "    print('x is still less than 5, so adding 1 to x')\n",
    "    x = x+1"
   ]
  },
  {
   "cell_type": "code",
   "execution_count": 2,
   "id": "a990e9a5",
   "metadata": {},
   "outputs": [
    {
     "name": "stdout",
     "output_type": "stream",
     "text": [
      "x is currently :  0\n",
      "x is still less than 5, so adding 1 to x\n",
      "x is currently :  1\n",
      "x is still less than 5, so adding 1 to x\n",
      "x is currently :  2\n",
      "x is still less than 5, so adding 1 to x\n",
      "x is currently :  3\n",
      "x is still less than 5, so adding 1 to x\n",
      "x is currently :  4\n",
      "x is still less than 5, so adding 1 to x\n",
      "ALL DONE !!\n"
     ]
    }
   ],
   "source": [
    "x = 0 \n",
    "while x < 5:\n",
    "    print('x is currently : ', x)\n",
    "    print('x is still less than 5, so adding 1 to x')\n",
    "    x = x+1\n",
    "else:\n",
    "    print('ALL DONE !!')"
   ]
  },
  {
   "cell_type": "markdown",
   "id": "f702f4e3",
   "metadata": {},
   "source": [
    "* break : breaks out of the current closest enclosing loop\n",
    "* continue : goes to the top of the closest enclosing loop\n",
    "* pass: do nothing "
   ]
  },
  {
   "cell_type": "code",
   "execution_count": 5,
   "id": "7b35d33f",
   "metadata": {},
   "outputs": [
    {
     "name": "stdout",
     "output_type": "stream",
     "text": [
      "x is currently :  0\n",
      "x is still less than 5, so adding 1 to x\n",
      "continuing\n",
      "x is currently :  1\n",
      "x is still less than 5, so adding 1 to x\n",
      "continuing\n",
      "x is currently :  2\n",
      "x is still less than 5, so adding 1 to x\n",
      "x is 3\n",
      "x is currently :  3\n",
      "x is still less than 5, so adding 1 to x\n",
      "continuing\n",
      "x is currently :  4\n",
      "x is still less than 5, so adding 1 to x\n",
      "continuing\n"
     ]
    }
   ],
   "source": [
    "x = 0 \n",
    "while x < 5:\n",
    "    print('x is currently : ', x)\n",
    "    print('x is still less than 5, so adding 1 to x')\n",
    "    x = x+1\n",
    "    if x == 3:\n",
    "        print('x is 3')\n",
    "    else:\n",
    "        print('continuing')\n",
    "        continue\n",
    "   "
   ]
  },
  {
   "cell_type": "code",
   "execution_count": 6,
   "id": "38b4c0b2",
   "metadata": {},
   "outputs": [
    {
     "name": "stdout",
     "output_type": "stream",
     "text": [
      "x is currently :  0\n",
      "x is still less than 5, so adding 1 to x\n",
      "continuing\n",
      "x is currently :  1\n",
      "x is still less than 5, so adding 1 to x\n",
      "continuing\n",
      "x is currently :  2\n",
      "x is still less than 5, so adding 1 to x\n",
      "x is 3 so loop is breaking\n"
     ]
    }
   ],
   "source": [
    "x = 0 \n",
    "while x < 5:\n",
    "    print('x is currently : ', x)\n",
    "    print('x is still less than 5, so adding 1 to x')\n",
    "    x = x+1\n",
    "    if x == 3:\n",
    "        print('x is 3 so loop is breaking')\n",
    "        break\n",
    "    else:\n",
    "        print('continuing')\n",
    "        continue"
   ]
  },
  {
   "cell_type": "code",
   "execution_count": 7,
   "id": "6dff1465",
   "metadata": {},
   "outputs": [
    {
     "name": "stdout",
     "output_type": "stream",
     "text": [
      "Bingo!!\n",
      "1\n",
      "2\n",
      "Shreyas\n",
      "4\n",
      "HMLPA\n",
      "Shreyas\n",
      "7\n",
      "8\n",
      "Shreyas\n",
      "HMLPA\n",
      "11\n",
      "Shreyas\n",
      "13\n",
      "14\n",
      "Bingo!!\n",
      "16\n",
      "17\n",
      "Shreyas\n",
      "19\n",
      "HMLPA\n",
      "Shreyas\n",
      "22\n",
      "23\n",
      "Shreyas\n",
      "HMLPA\n",
      "26\n",
      "Shreyas\n",
      "28\n",
      "29\n",
      "Bingo!!\n",
      "31\n",
      "32\n",
      "Shreyas\n",
      "34\n",
      "HMLPA\n",
      "Shreyas\n",
      "37\n",
      "38\n",
      "Shreyas\n",
      "HMLPA\n",
      "41\n",
      "Shreyas\n",
      "43\n",
      "44\n",
      "Bingo!!\n",
      "46\n",
      "47\n",
      "Shreyas\n",
      "49\n",
      "HMLPA\n",
      "Shreyas\n",
      "52\n",
      "53\n",
      "Shreyas\n",
      "HMLPA\n",
      "56\n",
      "Shreyas\n",
      "58\n",
      "59\n",
      "Bingo!!\n",
      "61\n",
      "62\n",
      "Shreyas\n",
      "64\n",
      "HMLPA\n",
      "Shreyas\n",
      "67\n",
      "68\n",
      "Shreyas\n",
      "HMLPA\n",
      "71\n",
      "Shreyas\n",
      "73\n",
      "74\n",
      "Bingo!!\n",
      "76\n",
      "77\n",
      "Shreyas\n",
      "79\n",
      "HMLPA\n",
      "Shreyas\n",
      "82\n",
      "83\n",
      "Shreyas\n",
      "HMLPA\n",
      "86\n",
      "Shreyas\n",
      "88\n",
      "89\n",
      "Bingo!!\n",
      "91\n",
      "92\n",
      "Shreyas\n",
      "94\n",
      "HMLPA\n",
      "Shreyas\n",
      "97\n",
      "98\n",
      "Shreyas\n",
      "HMLPA\n"
     ]
    }
   ],
   "source": [
    "n = 0\n",
    "while n < 101:\n",
    "    if n%3 == 0 and n%5 == 0:\n",
    "        print('Bingo!!')\n",
    "    elif n%5 == 0:\n",
    "        print('HMLPA')\n",
    "        \n",
    "    elif n%3 == 0 :\n",
    "        print('Shreyas')\n",
    "        \n",
    "    else:\n",
    "        print(n)\n",
    "    n = n+1"
   ]
  },
  {
   "cell_type": "code",
   "execution_count": null,
   "id": "ed1c8c24",
   "metadata": {},
   "outputs": [],
   "source": []
  }
 ],
 "metadata": {
  "kernelspec": {
   "display_name": "Python 3 (ipykernel)",
   "language": "python",
   "name": "python3"
  },
  "language_info": {
   "codemirror_mode": {
    "name": "ipython",
    "version": 3
   },
   "file_extension": ".py",
   "mimetype": "text/x-python",
   "name": "python",
   "nbconvert_exporter": "python",
   "pygments_lexer": "ipython3",
   "version": "3.11.5"
  }
 },
 "nbformat": 4,
 "nbformat_minor": 5
}
