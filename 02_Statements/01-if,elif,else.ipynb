{
 "cells": [
  {
   "cell_type": "code",
   "execution_count": 1,
   "id": "92ef74ed",
   "metadata": {},
   "outputs": [
    {
     "name": "stdout",
     "output_type": "stream",
     "text": [
      "this is true!!\n"
     ]
    }
   ],
   "source": [
    "if 2<3:\n",
    "    print('this is true!!')"
   ]
  },
  {
   "cell_type": "code",
   "execution_count": 2,
   "id": "95543be1",
   "metadata": {},
   "outputs": [],
   "source": [
    "if 2>3:\n",
    "    print('this is true!!')"
   ]
  },
  {
   "cell_type": "code",
   "execution_count": 3,
   "id": "8a8baf69",
   "metadata": {},
   "outputs": [
    {
     "name": "stdout",
     "output_type": "stream",
     "text": [
      "this is universally false\n"
     ]
    }
   ],
   "source": [
    "if 2>3:\n",
    "    print('2 is less than three')\n",
    "else:\n",
    "    print('this is universally false')"
   ]
  },
  {
   "cell_type": "code",
   "execution_count": 5,
   "id": "db6edfb7",
   "metadata": {},
   "outputs": [
    {
     "name": "stdout",
     "output_type": "stream",
     "text": [
      "where are you?\n"
     ]
    }
   ],
   "source": [
    "loc = 'shop'\n",
    "\n",
    "if loc == 'bank':\n",
    "    print('welcome to the bank')\n",
    "elif loc == 'parliament':\n",
    "    print('welcome to the parliament')\n",
    "else:\n",
    "    print('where are you?')"
   ]
  },
  {
   "cell_type": "code",
   "execution_count": null,
   "id": "135bf9de",
   "metadata": {},
   "outputs": [],
   "source": []
  }
 ],
 "metadata": {
  "kernelspec": {
   "display_name": "Python 3 (ipykernel)",
   "language": "python",
   "name": "python3"
  },
  "language_info": {
   "codemirror_mode": {
    "name": "ipython",
    "version": 3
   },
   "file_extension": ".py",
   "mimetype": "text/x-python",
   "name": "python",
   "nbconvert_exporter": "python",
   "pygments_lexer": "ipython3",
   "version": "3.11.5"
  }
 },
 "nbformat": 4,
 "nbformat_minor": 5
}
