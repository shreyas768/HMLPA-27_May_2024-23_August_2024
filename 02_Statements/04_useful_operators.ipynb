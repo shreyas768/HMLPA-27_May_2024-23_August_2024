{
 "cells": [
  {
   "cell_type": "code",
   "execution_count": 1,
   "id": "8370cac6",
   "metadata": {},
   "outputs": [
    {
     "data": {
      "text/plain": [
       "range(0, 10)"
      ]
     },
     "execution_count": 1,
     "metadata": {},
     "output_type": "execute_result"
    }
   ],
   "source": [
    "range(0,10)"
   ]
  },
  {
   "cell_type": "code",
   "execution_count": 2,
   "id": "3591e2d5",
   "metadata": {},
   "outputs": [
    {
     "data": {
      "text/plain": [
       "[0, 1, 2, 3, 4, 5, 6, 7, 8, 9]"
      ]
     },
     "execution_count": 2,
     "metadata": {},
     "output_type": "execute_result"
    }
   ],
   "source": [
    "list(range(0,10))"
   ]
  },
  {
   "cell_type": "code",
   "execution_count": 3,
   "id": "1381f531",
   "metadata": {},
   "outputs": [
    {
     "name": "stdout",
     "output_type": "stream",
     "text": [
      "at index 0 the letter is S\n",
      "at index 1 the letter is h\n",
      "at index 2 the letter is r\n",
      "at index 3 the letter is e\n",
      "at index 4 the letter is y\n",
      "at index 5 the letter is a\n",
      "at index 6 the letter is s\n"
     ]
    }
   ],
   "source": [
    "index_count = 0\n",
    "\n",
    "for letter in 'Shreyas':\n",
    "    print('at index {} the letter is {}'.format(index_count,letter))\n",
    "    index_count += 1"
   ]
  },
  {
   "cell_type": "code",
   "execution_count": 4,
   "id": "5523fc2b",
   "metadata": {},
   "outputs": [
    {
     "name": "stdout",
     "output_type": "stream",
     "text": [
      "at index 0 the letter is S\n",
      "at index 1 the letter is h\n",
      "at index 2 the letter is r\n",
      "at index 3 the letter is e\n",
      "at index 4 the letter is y\n",
      "at index 5 the letter is a\n",
      "at index 6 the letter is s\n"
     ]
    }
   ],
   "source": [
    "#enumerate\n",
    "for i,l in enumerate('Shreyas'):\n",
    "    print('at index {} the letter is {}'.format(i,l))"
   ]
  },
  {
   "cell_type": "code",
   "execution_count": 6,
   "id": "5db9ea47",
   "metadata": {},
   "outputs": [
    {
     "data": {
      "text/plain": [
       "[(0, 'M'),\n",
       " (1, 'a'),\n",
       " (2, 'c'),\n",
       " (3, 'h'),\n",
       " (4, 'i'),\n",
       " (5, 'n'),\n",
       " (6, 'e'),\n",
       " (7, '_'),\n",
       " (8, 'L'),\n",
       " (9, 'e'),\n",
       " (10, 'a'),\n",
       " (11, 'r'),\n",
       " (12, 'n'),\n",
       " (13, 'i'),\n",
       " (14, 'n'),\n",
       " (15, 'g')]"
      ]
     },
     "execution_count": 6,
     "metadata": {},
     "output_type": "execute_result"
    }
   ],
   "source": [
    "list(enumerate('Machine_Learning'))"
   ]
  },
  {
   "cell_type": "code",
   "execution_count": 7,
   "id": "ccf914bd",
   "metadata": {},
   "outputs": [
    {
     "data": {
      "text/plain": [
       "[(1, 'S'), (2, 'h'), (3, 'r'), (4, 'e'), (5, 'y')]"
      ]
     },
     "execution_count": 7,
     "metadata": {},
     "output_type": "execute_result"
    }
   ],
   "source": [
    "list1 = [1,2,3,4,5]\n",
    "list2 = ['S','h','r','e','y']\n",
    "\n",
    "list(zip(list1,list2))"
   ]
  },
  {
   "cell_type": "code",
   "execution_count": 8,
   "id": "9bddfd16",
   "metadata": {},
   "outputs": [
    {
     "name": "stdout",
     "output_type": "stream",
     "text": [
      "first item is 1 and second item is S\n",
      "first item is 2 and second item is h\n",
      "first item is 3 and second item is r\n",
      "first item is 4 and second item is e\n",
      "first item is 5 and second item is y\n"
     ]
    }
   ],
   "source": [
    "for v1,v2 in list(zip(list1,list2)):\n",
    "    print('first item is {} and second item is {}'.format(v1,v2))"
   ]
  },
  {
   "cell_type": "code",
   "execution_count": 10,
   "id": "d17b3a71",
   "metadata": {},
   "outputs": [
    {
     "name": "stdout",
     "output_type": "stream",
     "text": [
      "Enter something here: hello\n"
     ]
    }
   ],
   "source": [
    "st = input('Enter something here: ')"
   ]
  },
  {
   "cell_type": "code",
   "execution_count": null,
   "id": "a285f1dc",
   "metadata": {},
   "outputs": [],
   "source": []
  }
 ],
 "metadata": {
  "kernelspec": {
   "display_name": "Python 3 (ipykernel)",
   "language": "python",
   "name": "python3"
  },
  "language_info": {
   "codemirror_mode": {
    "name": "ipython",
    "version": 3
   },
   "file_extension": ".py",
   "mimetype": "text/x-python",
   "name": "python",
   "nbconvert_exporter": "python",
   "pygments_lexer": "ipython3",
   "version": "3.11.5"
  }
 },
 "nbformat": 4,
 "nbformat_minor": 5
}
