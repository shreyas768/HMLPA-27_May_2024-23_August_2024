{
 "cells": [
  {
   "cell_type": "code",
   "execution_count": 1,
   "id": "68dabace",
   "metadata": {},
   "outputs": [
    {
     "data": {
      "text/plain": [
       "['w', 'o', 'r', 'd']"
      ]
     },
     "execution_count": 1,
     "metadata": {},
     "output_type": "execute_result"
    }
   ],
   "source": [
    "[x for x in 'word']"
   ]
  },
  {
   "cell_type": "code",
   "execution_count": 2,
   "id": "504ec985",
   "metadata": {},
   "outputs": [],
   "source": [
    "lst = []\n",
    "st = 'word'\n",
    "for i in st:\n",
    "    lst.append(i)"
   ]
  },
  {
   "cell_type": "code",
   "execution_count": 3,
   "id": "e4afbbd2",
   "metadata": {},
   "outputs": [],
   "source": [
    "st = 'Machine Learning is the most used technology these days due to its ability to automate tasks, detect patterns and learn from Data. Python is the language that is extensively used in Machine Learning & Data Analytics applications. Therefore, this course is designed for students/researchers/faculties/working professionals in such a way that they can first learn the fundamentals of Python and its libraries required for the Data Analytics & Machine Learning Applications. Then, they will be taught a detailed course on Machine Learning starting from scratch. This course will make the participants efficient in using Python Libraries and Machine Learning models for various real-world applications. The skills acquired from this course along with the certification will enhance their employability and will open doors to exciting career prospects.'\n"
   ]
  },
  {
   "cell_type": "code",
   "execution_count": 4,
   "id": "4296496b",
   "metadata": {},
   "outputs": [
    {
     "data": {
      "text/plain": [
       "[7,\n",
       " 8,\n",
       " 2,\n",
       " 3,\n",
       " 4,\n",
       " 4,\n",
       " 10,\n",
       " 5,\n",
       " 4,\n",
       " 3,\n",
       " 2,\n",
       " 3,\n",
       " 7,\n",
       " 2,\n",
       " 8,\n",
       " 5,\n",
       " 6,\n",
       " 8,\n",
       " 3,\n",
       " 5,\n",
       " 4,\n",
       " 4,\n",
       " 6,\n",
       " 2,\n",
       " 3,\n",
       " 8,\n",
       " 4,\n",
       " 2,\n",
       " 11,\n",
       " 4,\n",
       " 2,\n",
       " 7,\n",
       " 8,\n",
       " 1,\n",
       " 4,\n",
       " 9,\n",
       " 12,\n",
       " 9,\n",
       " 4,\n",
       " 6,\n",
       " 2,\n",
       " 8,\n",
       " 3,\n",
       " 8,\n",
       " 11,\n",
       " 9,\n",
       " 7,\n",
       " 13,\n",
       " 2,\n",
       " 4,\n",
       " 1,\n",
       " 3,\n",
       " 4,\n",
       " 4,\n",
       " 3,\n",
       " 5,\n",
       " 5,\n",
       " 3,\n",
       " 12,\n",
       " 2,\n",
       " 6,\n",
       " 3,\n",
       " 3,\n",
       " 9,\n",
       " 8,\n",
       " 3,\n",
       " 3,\n",
       " 4,\n",
       " 9,\n",
       " 1,\n",
       " 7,\n",
       " 8,\n",
       " 12,\n",
       " 4,\n",
       " 4,\n",
       " 4,\n",
       " 2,\n",
       " 6,\n",
       " 1,\n",
       " 8,\n",
       " 6,\n",
       " 2,\n",
       " 7,\n",
       " 8,\n",
       " 8,\n",
       " 4,\n",
       " 7,\n",
       " 4,\n",
       " 6,\n",
       " 4,\n",
       " 4,\n",
       " 3,\n",
       " 12,\n",
       " 9,\n",
       " 2,\n",
       " 5,\n",
       " 6,\n",
       " 9,\n",
       " 3,\n",
       " 7,\n",
       " 8,\n",
       " 6,\n",
       " 3,\n",
       " 7,\n",
       " 10,\n",
       " 12,\n",
       " 3,\n",
       " 6,\n",
       " 8,\n",
       " 4,\n",
       " 4,\n",
       " 6,\n",
       " 5,\n",
       " 4,\n",
       " 3,\n",
       " 13,\n",
       " 4,\n",
       " 7,\n",
       " 5,\n",
       " 13,\n",
       " 3,\n",
       " 4,\n",
       " 4,\n",
       " 5,\n",
       " 2,\n",
       " 8,\n",
       " 6,\n",
       " 9]"
      ]
     },
     "execution_count": 4,
     "metadata": {},
     "output_type": "execute_result"
    }
   ],
   "source": [
    "[len(x) for x in st.replace('.','').replace(',','').replace('/',' ').split()]"
   ]
  },
  {
   "cell_type": "code",
   "execution_count": 7,
   "id": "b1e81da8",
   "metadata": {},
   "outputs": [
    {
     "data": {
      "text/plain": [
       "[32.0, 50.0, 68.0, 33.8, 94.1]"
      ]
     },
     "execution_count": 7,
     "metadata": {},
     "output_type": "execute_result"
    }
   ],
   "source": [
    "celsius = [0,10,20,1,34.5]\n",
    "\n",
    "farenheit = [((9*x/5)+ 32) for x in celsius]\n",
    "farenheit"
   ]
  },
  {
   "cell_type": "code",
   "execution_count": 8,
   "id": "06059c87",
   "metadata": {},
   "outputs": [
    {
     "data": {
      "text/plain": [
       "[49,\n",
       " 64,\n",
       " 4,\n",
       " 9,\n",
       " 16,\n",
       " 16,\n",
       " 100,\n",
       " 25,\n",
       " 16,\n",
       " 9,\n",
       " 4,\n",
       " 9,\n",
       " 49,\n",
       " 4,\n",
       " 64,\n",
       " 25,\n",
       " 36,\n",
       " 64,\n",
       " 9,\n",
       " 25,\n",
       " 16,\n",
       " 16,\n",
       " 36,\n",
       " 4,\n",
       " 9,\n",
       " 64,\n",
       " 16,\n",
       " 4,\n",
       " 121,\n",
       " 16,\n",
       " 4,\n",
       " 49,\n",
       " 64,\n",
       " 1,\n",
       " 16,\n",
       " 81,\n",
       " 144,\n",
       " 81,\n",
       " 16,\n",
       " 36,\n",
       " 4,\n",
       " 64,\n",
       " 9,\n",
       " 64,\n",
       " 121,\n",
       " 81,\n",
       " 49,\n",
       " 169,\n",
       " 4,\n",
       " 16,\n",
       " 1,\n",
       " 9,\n",
       " 16,\n",
       " 16,\n",
       " 9,\n",
       " 25,\n",
       " 25,\n",
       " 9,\n",
       " 144,\n",
       " 4,\n",
       " 36,\n",
       " 9,\n",
       " 9,\n",
       " 81,\n",
       " 64,\n",
       " 9,\n",
       " 9,\n",
       " 16,\n",
       " 81,\n",
       " 1,\n",
       " 49,\n",
       " 64,\n",
       " 144,\n",
       " 16,\n",
       " 16,\n",
       " 16,\n",
       " 4,\n",
       " 36,\n",
       " 1,\n",
       " 64,\n",
       " 36,\n",
       " 4,\n",
       " 49,\n",
       " 64,\n",
       " 64,\n",
       " 16,\n",
       " 49,\n",
       " 16,\n",
       " 36,\n",
       " 16,\n",
       " 16,\n",
       " 9,\n",
       " 144,\n",
       " 81,\n",
       " 4,\n",
       " 25,\n",
       " 36,\n",
       " 81,\n",
       " 9,\n",
       " 49,\n",
       " 64,\n",
       " 36,\n",
       " 9,\n",
       " 49,\n",
       " 100,\n",
       " 144,\n",
       " 9,\n",
       " 36,\n",
       " 64,\n",
       " 16,\n",
       " 16,\n",
       " 36,\n",
       " 25,\n",
       " 16,\n",
       " 9,\n",
       " 169,\n",
       " 16,\n",
       " 49,\n",
       " 25,\n",
       " 169,\n",
       " 9,\n",
       " 16,\n",
       " 16,\n",
       " 25,\n",
       " 4,\n",
       " 64,\n",
       " 36,\n",
       " 81]"
      ]
     },
     "execution_count": 8,
     "metadata": {},
     "output_type": "execute_result"
    }
   ],
   "source": [
    "[ y**2 for y in [len(x) for x in st.replace('.','').replace(',','').replace('/',' ').split()]]"
   ]
  },
  {
   "cell_type": "code",
   "execution_count": 9,
   "id": "9062ae70",
   "metadata": {},
   "outputs": [
    {
     "data": {
      "text/plain": [
       "[6.4, 10.0, 13.6, 6.76, 18.82]"
      ]
     },
     "execution_count": 9,
     "metadata": {},
     "output_type": "execute_result"
    }
   ],
   "source": [
    "[z/5 for z in [((9*x/5)+ 32) for x in celsius]]"
   ]
  },
  {
   "cell_type": "code",
   "execution_count": null,
   "id": "257a8223",
   "metadata": {},
   "outputs": [],
   "source": []
  },
  {
   "cell_type": "code",
   "execution_count": null,
   "id": "3747f35c",
   "metadata": {},
   "outputs": [],
   "source": []
  }
 ],
 "metadata": {
  "kernelspec": {
   "display_name": "Python 3 (ipykernel)",
   "language": "python",
   "name": "python3"
  },
  "language_info": {
   "codemirror_mode": {
    "name": "ipython",
    "version": 3
   },
   "file_extension": ".py",
   "mimetype": "text/x-python",
   "name": "python",
   "nbconvert_exporter": "python",
   "pygments_lexer": "ipython3",
   "version": "3.11.5"
  }
 },
 "nbformat": 4,
 "nbformat_minor": 5
}
