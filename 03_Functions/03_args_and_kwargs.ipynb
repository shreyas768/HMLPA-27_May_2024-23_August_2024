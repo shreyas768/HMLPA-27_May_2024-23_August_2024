{
 "cells": [
  {
   "cell_type": "code",
   "execution_count": 1,
   "id": "90d45dca",
   "metadata": {},
   "outputs": [],
   "source": [
    "def myfunc(*args):\n",
    "    return sum(args)**0.5"
   ]
  },
  {
   "cell_type": "code",
   "execution_count": 3,
   "id": "245a37ac",
   "metadata": {},
   "outputs": [
    {
     "data": {
      "text/plain": [
       "32.264531609803356"
      ]
     },
     "execution_count": 3,
     "metadata": {},
     "output_type": "execute_result"
    }
   ],
   "source": [
    "myfunc(32,12,34,54,123,321,453,12)"
   ]
  },
  {
   "cell_type": "code",
   "execution_count": 9,
   "id": "4e1456ae",
   "metadata": {},
   "outputs": [],
   "source": [
    "def myfunc1(**kwargs):\n",
    "    if 'fruit' and 'juice' in kwargs:\n",
    "        print(f\"my fav fruit is {kwargs['fruit']}. I like {kwargs['juice']}\")\n",
    "    else:\n",
    "        print('I dont like fruit')"
   ]
  },
  {
   "cell_type": "code",
   "execution_count": 10,
   "id": "4fb51036",
   "metadata": {},
   "outputs": [
    {
     "name": "stdout",
     "output_type": "stream",
     "text": [
      "my fav fruit is pineapple. I like orange\n"
     ]
    }
   ],
   "source": [
    "myfunc1(fruit = 'pineapple', juice ='orange')"
   ]
  },
  {
   "cell_type": "code",
   "execution_count": null,
   "id": "8c71c202",
   "metadata": {},
   "outputs": [],
   "source": []
  }
 ],
 "metadata": {
  "kernelspec": {
   "display_name": "Python 3 (ipykernel)",
   "language": "python",
   "name": "python3"
  },
  "language_info": {
   "codemirror_mode": {
    "name": "ipython",
    "version": 3
   },
   "file_extension": ".py",
   "mimetype": "text/x-python",
   "name": "python",
   "nbconvert_exporter": "python",
   "pygments_lexer": "ipython3",
   "version": "3.11.5"
  }
 },
 "nbformat": 4,
 "nbformat_minor": 5
}
