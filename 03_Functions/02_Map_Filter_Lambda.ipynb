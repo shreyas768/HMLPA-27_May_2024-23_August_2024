{
 "cells": [
  {
   "cell_type": "markdown",
   "id": "bb7e605e",
   "metadata": {},
   "source": [
    "#### Map Function\n",
    "\n",
    "map a function to an iterable object"
   ]
  },
  {
   "cell_type": "code",
   "execution_count": 1,
   "id": "fa12d5c6",
   "metadata": {},
   "outputs": [],
   "source": [
    "def sq(num):\n",
    "    return num**2"
   ]
  },
  {
   "cell_type": "code",
   "execution_count": 2,
   "id": "8b39ca21",
   "metadata": {},
   "outputs": [
    {
     "data": {
      "text/plain": [
       "9"
      ]
     },
     "execution_count": 2,
     "metadata": {},
     "output_type": "execute_result"
    }
   ],
   "source": [
    "sq(3)"
   ]
  },
  {
   "cell_type": "code",
   "execution_count": 33,
   "id": "25603a16",
   "metadata": {},
   "outputs": [],
   "source": [
    "lst1 = [1,2,3,4]\n"
   ]
  },
  {
   "cell_type": "code",
   "execution_count": 5,
   "id": "808bb938",
   "metadata": {},
   "outputs": [
    {
     "data": {
      "text/plain": [
       "[1, 4, 9, 16]"
      ]
     },
     "execution_count": 5,
     "metadata": {},
     "output_type": "execute_result"
    }
   ],
   "source": [
    "list(map(sq,lst))"
   ]
  },
  {
   "cell_type": "code",
   "execution_count": 6,
   "id": "045cdbfb",
   "metadata": {},
   "outputs": [],
   "source": [
    "def func1(mystr):\n",
    "    if len(mystr) % 2 ==0:\n",
    "        return 'even'\n",
    "    else:\n",
    "        return mystr[-1]"
   ]
  },
  {
   "cell_type": "code",
   "execution_count": 9,
   "id": "0944e9fa",
   "metadata": {},
   "outputs": [],
   "source": [
    "lst = ['John', 'Cindy','Sarah','David','Rahul','Shreyas']"
   ]
  },
  {
   "cell_type": "code",
   "execution_count": 10,
   "id": "9dd1c1c4",
   "metadata": {},
   "outputs": [
    {
     "data": {
      "text/plain": [
       "['even', 'y', 'h', 'd', 'l', 's']"
      ]
     },
     "execution_count": 10,
     "metadata": {},
     "output_type": "execute_result"
    }
   ],
   "source": [
    "list(map(func1,lst))"
   ]
  },
  {
   "cell_type": "code",
   "execution_count": 15,
   "id": "7904e6cb",
   "metadata": {},
   "outputs": [],
   "source": [
    "import numpy as np\n",
    "radius = [12,21,13,31,14,41]\n",
    "def vol_sphere(rad):\n",
    "    return np.round((4/3)*3.14*(rad**3),2)"
   ]
  },
  {
   "cell_type": "code",
   "execution_count": 16,
   "id": "be0ea4b2",
   "metadata": {},
   "outputs": [
    {
     "data": {
      "text/plain": [
       "[7234.56, 38772.72, 9198.11, 124724.99, 11488.21, 288549.25]"
      ]
     },
     "execution_count": 16,
     "metadata": {},
     "output_type": "execute_result"
    }
   ],
   "source": [
    "list(map(vol_sphere,radius))"
   ]
  },
  {
   "cell_type": "markdown",
   "id": "97f423c3",
   "metadata": {},
   "source": [
    "#### Filter\n",
    "\n",
    "return a function based on a condition that is True or False"
   ]
  },
  {
   "cell_type": "code",
   "execution_count": 20,
   "id": "fafbb0da",
   "metadata": {},
   "outputs": [],
   "source": [
    "def check_even(num):\n",
    "    return num % 2 != 0"
   ]
  },
  {
   "cell_type": "code",
   "execution_count": 21,
   "id": "21d90a8b",
   "metadata": {},
   "outputs": [
    {
     "data": {
      "text/plain": [
       "<filter at 0x106396620>"
      ]
     },
     "execution_count": 21,
     "metadata": {},
     "output_type": "execute_result"
    }
   ],
   "source": [
    "numbers = [1,2,3,4,5,6,7]\n",
    "\n",
    "filter(check_even,numbers)"
   ]
  },
  {
   "cell_type": "code",
   "execution_count": 22,
   "id": "af0714a2",
   "metadata": {},
   "outputs": [
    {
     "data": {
      "text/plain": [
       "[1, 3, 5, 7]"
      ]
     },
     "execution_count": 22,
     "metadata": {},
     "output_type": "execute_result"
    }
   ],
   "source": [
    "list(filter(check_even,numbers))"
   ]
  },
  {
   "cell_type": "markdown",
   "id": "fad8cab1",
   "metadata": {},
   "source": [
    "##### Lambda Expressions\n",
    "\n",
    "creates anonymuous ad-hoc functions without needing to properly define a function using def"
   ]
  },
  {
   "cell_type": "code",
   "execution_count": 23,
   "id": "d12eedab",
   "metadata": {},
   "outputs": [],
   "source": [
    "def sq(num):\n",
    "    result = num**2\n",
    "    return result"
   ]
  },
  {
   "cell_type": "code",
   "execution_count": 24,
   "id": "b9ac37cb",
   "metadata": {},
   "outputs": [],
   "source": [
    "def sq(num):\n",
    "    return num**2"
   ]
  },
  {
   "cell_type": "code",
   "execution_count": 26,
   "id": "36876c1c",
   "metadata": {},
   "outputs": [],
   "source": [
    "def sq2(num): return num**2"
   ]
  },
  {
   "cell_type": "code",
   "execution_count": 28,
   "id": "cff88078",
   "metadata": {},
   "outputs": [
    {
     "data": {
      "text/plain": [
       "81"
      ]
     },
     "execution_count": 28,
     "metadata": {},
     "output_type": "execute_result"
    }
   ],
   "source": [
    "sq2(9)"
   ]
  },
  {
   "cell_type": "code",
   "execution_count": 30,
   "id": "15d4643c",
   "metadata": {},
   "outputs": [],
   "source": [
    "sq5 = lambda num : num**2"
   ]
  },
  {
   "cell_type": "code",
   "execution_count": 31,
   "id": "f923bcc2",
   "metadata": {},
   "outputs": [
    {
     "data": {
      "text/plain": [
       "81"
      ]
     },
     "execution_count": 31,
     "metadata": {},
     "output_type": "execute_result"
    }
   ],
   "source": [
    "sq5(9)"
   ]
  },
  {
   "cell_type": "code",
   "execution_count": 34,
   "id": "2272c217",
   "metadata": {},
   "outputs": [
    {
     "data": {
      "text/plain": [
       "[12, 24, 36, 48]"
      ]
     },
     "execution_count": 34,
     "metadata": {},
     "output_type": "execute_result"
    }
   ],
   "source": [
    "list(map(lambda x : x*12, lst1))"
   ]
  },
  {
   "cell_type": "code",
   "execution_count": 37,
   "id": "63ce4e27",
   "metadata": {},
   "outputs": [
    {
     "data": {
      "text/plain": [
       "['John', 'Cindy', 'Sarah', 'David', 'Rahul', 'Shreyas']"
      ]
     },
     "execution_count": 37,
     "metadata": {},
     "output_type": "execute_result"
    }
   ],
   "source": [
    "lst"
   ]
  },
  {
   "cell_type": "code",
   "execution_count": 36,
   "id": "740ca7f9",
   "metadata": {},
   "outputs": [
    {
     "data": {
      "text/plain": [
       "['Cindy', 'Sarah', 'David', 'Rahul']"
      ]
     },
     "execution_count": 36,
     "metadata": {},
     "output_type": "execute_result"
    }
   ],
   "source": [
    "list(filter(lambda x : len(x) == 5, lst))"
   ]
  },
  {
   "cell_type": "code",
   "execution_count": 38,
   "id": "6418c02e",
   "metadata": {},
   "outputs": [],
   "source": [
    "st = ['Shreyas','Shukla','IIT kgp', 'HMLPA']"
   ]
  },
  {
   "cell_type": "code",
   "execution_count": 41,
   "id": "315a411b",
   "metadata": {},
   "outputs": [
    {
     "data": {
      "text/plain": [
       "['sayerhS', 'alkuhS', 'pgk TII', 'APLMH']"
      ]
     },
     "execution_count": 41,
     "metadata": {},
     "output_type": "execute_result"
    }
   ],
   "source": [
    "list(map(lambda x : x[::-1], st))"
   ]
  },
  {
   "cell_type": "markdown",
   "id": "24ebce46",
   "metadata": {},
   "source": [
    "##### Use map and filter to square even number in a list\n",
    "\n",
    "* list = [1,2,3,4,5,6,7,8,9,10,11,12]"
   ]
  },
  {
   "cell_type": "code",
   "execution_count": 46,
   "id": "22bd9429",
   "metadata": {},
   "outputs": [],
   "source": [
    "l1 = [1,2,3,4,5,6,7,8,9,10,11,12]\n",
    "\n",
    "l2 = list(filter(lambda x:x%2 == 0, l1))"
   ]
  },
  {
   "cell_type": "code",
   "execution_count": 47,
   "id": "2b890b88",
   "metadata": {},
   "outputs": [
    {
     "data": {
      "text/plain": [
       "[4, 16, 36, 64, 100, 144]"
      ]
     },
     "execution_count": 47,
     "metadata": {},
     "output_type": "execute_result"
    }
   ],
   "source": [
    "list(map(lambda x:x**2,l2))"
   ]
  },
  {
   "cell_type": "code",
   "execution_count": 48,
   "id": "a0506c6d",
   "metadata": {},
   "outputs": [
    {
     "data": {
      "text/plain": [
       "[4, 16, 36, 64, 100, 144]"
      ]
     },
     "execution_count": 48,
     "metadata": {},
     "output_type": "execute_result"
    }
   ],
   "source": [
    "list(map(lambda x:x**2,filter(lambda x:x%2 == 0, l1)))"
   ]
  },
  {
   "cell_type": "code",
   "execution_count": 50,
   "id": "4d3af4a7",
   "metadata": {},
   "outputs": [
    {
     "data": {
      "text/plain": [
       "['CHETAN', 'DEEPESH']"
      ]
     },
     "execution_count": 50,
     "metadata": {},
     "output_type": "execute_result"
    }
   ],
   "source": [
    "lst3 = ['Alan','Bob', 'Chetan', 'Deepesh']\n",
    "list(map(lambda x:x.upper(),filter(lambda x:len(x)>4,lst3)))"
   ]
  },
  {
   "cell_type": "code",
   "execution_count": null,
   "id": "87a09f51",
   "metadata": {},
   "outputs": [],
   "source": []
  }
 ],
 "metadata": {
  "kernelspec": {
   "display_name": "Python 3 (ipykernel)",
   "language": "python",
   "name": "python3"
  },
  "language_info": {
   "codemirror_mode": {
    "name": "ipython",
    "version": 3
   },
   "file_extension": ".py",
   "mimetype": "text/x-python",
   "name": "python",
   "nbconvert_exporter": "python",
   "pygments_lexer": "ipython3",
   "version": "3.11.5"
  }
 },
 "nbformat": 4,
 "nbformat_minor": 5
}
