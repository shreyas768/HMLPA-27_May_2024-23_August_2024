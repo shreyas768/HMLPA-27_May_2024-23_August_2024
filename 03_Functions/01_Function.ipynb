{
 "cells": [
  {
   "cell_type": "code",
   "execution_count": 1,
   "id": "180c3563",
   "metadata": {},
   "outputs": [],
   "source": [
    "def say_hello():\n",
    "    print('hello')"
   ]
  },
  {
   "cell_type": "code",
   "execution_count": 2,
   "id": "a3f63ea7",
   "metadata": {},
   "outputs": [
    {
     "data": {
      "text/plain": [
       "<function __main__.say_hello()>"
      ]
     },
     "execution_count": 2,
     "metadata": {},
     "output_type": "execute_result"
    }
   ],
   "source": [
    "say_hello"
   ]
  },
  {
   "cell_type": "code",
   "execution_count": 3,
   "id": "3f208820",
   "metadata": {},
   "outputs": [
    {
     "name": "stdout",
     "output_type": "stream",
     "text": [
      "hello\n"
     ]
    }
   ],
   "source": [
    "say_hello()"
   ]
  },
  {
   "cell_type": "code",
   "execution_count": 4,
   "id": "cd11fa54",
   "metadata": {},
   "outputs": [],
   "source": [
    "def say_hello():\n",
    "    return 'hello'"
   ]
  },
  {
   "cell_type": "code",
   "execution_count": 5,
   "id": "971c5951",
   "metadata": {},
   "outputs": [
    {
     "data": {
      "text/plain": [
       "'hello'"
      ]
     },
     "execution_count": 5,
     "metadata": {},
     "output_type": "execute_result"
    }
   ],
   "source": [
    "say_hello()"
   ]
  },
  {
   "cell_type": "code",
   "execution_count": 10,
   "id": "26ea9580",
   "metadata": {},
   "outputs": [],
   "source": [
    "def greetings(name):\n",
    "    print(f'Namaste {name} !!')"
   ]
  },
  {
   "cell_type": "code",
   "execution_count": 23,
   "id": "2a350545",
   "metadata": {},
   "outputs": [
    {
     "name": "stdout",
     "output_type": "stream",
     "text": [
      "Namaste Shreyas !!\n"
     ]
    }
   ],
   "source": [
    "x = greetings('Shreyas')"
   ]
  },
  {
   "cell_type": "code",
   "execution_count": 24,
   "id": "e8ccfa72",
   "metadata": {},
   "outputs": [
    {
     "data": {
      "text/plain": [
       "NoneType"
      ]
     },
     "execution_count": 24,
     "metadata": {},
     "output_type": "execute_result"
    }
   ],
   "source": [
    "type(x)"
   ]
  },
  {
   "cell_type": "code",
   "execution_count": 18,
   "id": "0c073b63",
   "metadata": {},
   "outputs": [],
   "source": [
    "def add_num(num1, num2):\n",
    "    return num1 + num2"
   ]
  },
  {
   "cell_type": "code",
   "execution_count": 19,
   "id": "a2087eec",
   "metadata": {},
   "outputs": [
    {
     "data": {
      "text/plain": [
       "44"
      ]
     },
     "execution_count": 19,
     "metadata": {},
     "output_type": "execute_result"
    }
   ],
   "source": [
    "add_num(23,21)"
   ]
  },
  {
   "cell_type": "code",
   "execution_count": 20,
   "id": "09c0fbd5",
   "metadata": {},
   "outputs": [
    {
     "data": {
      "text/plain": [
       "'2321'"
      ]
     },
     "execution_count": 20,
     "metadata": {},
     "output_type": "execute_result"
    }
   ],
   "source": [
    "add_num('23','21')"
   ]
  },
  {
   "cell_type": "code",
   "execution_count": 21,
   "id": "658d950d",
   "metadata": {},
   "outputs": [],
   "source": [
    "result = add_num(2,3)"
   ]
  },
  {
   "cell_type": "code",
   "execution_count": 22,
   "id": "1713f2e7",
   "metadata": {},
   "outputs": [
    {
     "data": {
      "text/plain": [
       "5"
      ]
     },
     "execution_count": 22,
     "metadata": {},
     "output_type": "execute_result"
    }
   ],
   "source": [
    "result"
   ]
  },
  {
   "cell_type": "code",
   "execution_count": 25,
   "id": "06290cf8",
   "metadata": {},
   "outputs": [],
   "source": [
    "def check_even(number):\n",
    "    return number%2 == 0"
   ]
  },
  {
   "cell_type": "code",
   "execution_count": 27,
   "id": "479303d8",
   "metadata": {},
   "outputs": [
    {
     "data": {
      "text/plain": [
       "True"
      ]
     },
     "execution_count": 27,
     "metadata": {},
     "output_type": "execute_result"
    }
   ],
   "source": [
    "check_even(42)"
   ]
  },
  {
   "cell_type": "code",
   "execution_count": 30,
   "id": "3b2641b2",
   "metadata": {},
   "outputs": [],
   "source": [
    "def check_even(number):\n",
    "    if number%2 == 0:\n",
    "        print('Even')\n",
    "    else:\n",
    "        print('Odd')"
   ]
  },
  {
   "cell_type": "code",
   "execution_count": 31,
   "id": "cdddffb7",
   "metadata": {},
   "outputs": [
    {
     "name": "stdout",
     "output_type": "stream",
     "text": [
      "Odd\n"
     ]
    }
   ],
   "source": [
    "check_even(19)"
   ]
  },
  {
   "cell_type": "code",
   "execution_count": 37,
   "id": "a917c572",
   "metadata": {},
   "outputs": [],
   "source": [
    "#any number in a list is even\n",
    "\n",
    "def check_even_list(num):\n",
    "    #go through each number\n",
    "    for n in num:\n",
    "        # once we hit an even number, we return True\n",
    "        if n%2 == 0:\n",
    "            return True\n",
    "        #otherwise we don't do anything\n",
    "        else:\n",
    "            pass"
   ]
  },
  {
   "cell_type": "code",
   "execution_count": 38,
   "id": "3c535ebc",
   "metadata": {},
   "outputs": [
    {
     "data": {
      "text/plain": [
       "True"
      ]
     },
     "execution_count": 38,
     "metadata": {},
     "output_type": "execute_result"
    }
   ],
   "source": [
    "check_even_list([1,3,7,2,1,5,19,49,19999])"
   ]
  },
  {
   "cell_type": "code",
   "execution_count": 39,
   "id": "e8748b19",
   "metadata": {},
   "outputs": [],
   "source": [
    "check_even_list([1,3,7,1,5,19,49,19999])"
   ]
  },
  {
   "cell_type": "code",
   "execution_count": 43,
   "id": "84b996d5",
   "metadata": {},
   "outputs": [],
   "source": [
    "#any number in a list is even\n",
    "\n",
    "def check_even_list1(num):\n",
    "    #go through each number\n",
    "    for n in num:\n",
    "        # once we hit an even number, we return True\n",
    "        if n%2 == 0:\n",
    "            return True\n",
    "        #This is PROBLEMATIC. It is returning False at the very first odd number\n",
    "        #It is not checking the other numbers in the list\n",
    "        else:\n",
    "            return False"
   ]
  },
  {
   "cell_type": "code",
   "execution_count": 44,
   "id": "6810f07b",
   "metadata": {},
   "outputs": [
    {
     "data": {
      "text/plain": [
       "False"
      ]
     },
     "execution_count": 44,
     "metadata": {},
     "output_type": "execute_result"
    }
   ],
   "source": [
    "check_even_list1([1,3,7,9,11])"
   ]
  },
  {
   "cell_type": "code",
   "execution_count": 45,
   "id": "7fdd0e51",
   "metadata": {},
   "outputs": [
    {
     "data": {
      "text/plain": [
       "False"
      ]
     },
     "execution_count": 45,
     "metadata": {},
     "output_type": "execute_result"
    }
   ],
   "source": [
    "check_even_list1([1,7,11,12,19,21])"
   ]
  },
  {
   "cell_type": "markdown",
   "id": "f40daca3",
   "metadata": {},
   "source": [
    "# BELOW ONE IS THE RIGHT APPROACH:"
   ]
  },
  {
   "cell_type": "code",
   "execution_count": 57,
   "id": "94b778af",
   "metadata": {},
   "outputs": [],
   "source": [
    "def check_even_list2(num):\n",
    "    #go through each number\n",
    "    for n in num:\n",
    "        # once we hit an even number, we return True\n",
    "        if n%2 == 0:\n",
    "            return True\n",
    "        #otherwise we don't do anything\n",
    "        else:\n",
    "            pass\n",
    "    return False"
   ]
  },
  {
   "cell_type": "code",
   "execution_count": 58,
   "id": "3a3bab3e",
   "metadata": {},
   "outputs": [
    {
     "data": {
      "text/plain": [
       "True"
      ]
     },
     "execution_count": 58,
     "metadata": {},
     "output_type": "execute_result"
    }
   ],
   "source": [
    "check_even_list2([1,7,11,12,19,21])"
   ]
  },
  {
   "cell_type": "markdown",
   "id": "a30bb4d0",
   "metadata": {},
   "source": [
    "* Task: Return all the odd numbers in a list"
   ]
  },
  {
   "cell_type": "code",
   "execution_count": null,
   "id": "537735b2",
   "metadata": {},
   "outputs": [],
   "source": []
  },
  {
   "cell_type": "code",
   "execution_count": 61,
   "id": "936824de",
   "metadata": {},
   "outputs": [],
   "source": [
    "emp_hours = [('Adarsh',100),('Deepanshu',800),('Swayam',400),('Swati',1721)]\n",
    "\n",
    "def employee_hours(emp_hours):\n",
    "    \n",
    "    current_max = 0\n",
    "    \n",
    "    best_employee = ''\n",
    "    \n",
    "    for e,h in emp_hours:\n",
    "        if h > current_max:\n",
    "            current_max = h\n",
    "            best_employee = e\n",
    "        else:\n",
    "            pass\n",
    "    \n",
    "    return (best_employee,current_max)"
   ]
  },
  {
   "cell_type": "code",
   "execution_count": 62,
   "id": "5451b4a4",
   "metadata": {},
   "outputs": [
    {
     "data": {
      "text/plain": [
       "('Swati', 1721)"
      ]
     },
     "execution_count": 62,
     "metadata": {},
     "output_type": "execute_result"
    }
   ],
   "source": [
    "employee_hours(emp_hours)"
   ]
  },
  {
   "cell_type": "code",
   "execution_count": null,
   "id": "60b5e454",
   "metadata": {},
   "outputs": [],
   "source": []
  }
 ],
 "metadata": {
  "kernelspec": {
   "display_name": "Python 3 (ipykernel)",
   "language": "python",
   "name": "python3"
  },
  "language_info": {
   "codemirror_mode": {
    "name": "ipython",
    "version": 3
   },
   "file_extension": ".py",
   "mimetype": "text/x-python",
   "name": "python",
   "nbconvert_exporter": "python",
   "pygments_lexer": "ipython3",
   "version": "3.11.5"
  }
 },
 "nbformat": 4,
 "nbformat_minor": 5
}
