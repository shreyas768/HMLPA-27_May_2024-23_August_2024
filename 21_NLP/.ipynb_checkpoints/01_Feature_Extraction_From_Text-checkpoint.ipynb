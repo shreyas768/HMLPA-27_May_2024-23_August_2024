{
 "cells": [
  {
   "cell_type": "code",
   "execution_count": 2,
   "id": "bd80b3ee",
   "metadata": {},
   "outputs": [
    {
     "name": "stdout",
     "output_type": "stream",
     "text": [
      "This is a story about dogs\n",
      "our canine pets\n",
      "Dogs are furry animals\n",
      "\n"
     ]
    }
   ],
   "source": [
    "with open('One.txt') as mytext:\n",
    "    print(mytext.read())"
   ]
  },
  {
   "cell_type": "code",
   "execution_count": 3,
   "id": "4bbd3b49",
   "metadata": {},
   "outputs": [
    {
     "name": "stdout",
     "output_type": "stream",
     "text": [
      "This story is about surfing\n",
      "Catching waves is fun\n",
      "Surfing is a popular water sport\n",
      "\n"
     ]
    }
   ],
   "source": [
    "with open('Two.txt') as mytext:\n",
    "    print(mytext.read())"
   ]
  },
  {
   "cell_type": "markdown",
   "id": "2a0caa94",
   "metadata": {},
   "source": [
    "### Reading Entire Text as a string"
   ]
  },
  {
   "cell_type": "code",
   "execution_count": 5,
   "id": "f94ac270",
   "metadata": {},
   "outputs": [],
   "source": [
    "with open('One.txt') as mystring:\n",
    "    entire_text = mystring.read()"
   ]
  },
  {
   "cell_type": "code",
   "execution_count": 6,
   "id": "efcfcb90",
   "metadata": {},
   "outputs": [
    {
     "data": {
      "text/plain": [
       "'This is a story about dogs\\nour canine pets\\nDogs are furry animals\\n'"
      ]
     },
     "execution_count": 6,
     "metadata": {},
     "output_type": "execute_result"
    }
   ],
   "source": [
    "entire_text"
   ]
  },
  {
   "cell_type": "code",
   "execution_count": 8,
   "id": "63d0290c",
   "metadata": {},
   "outputs": [
    {
     "name": "stdout",
     "output_type": "stream",
     "text": [
      "This is a story about dogs\n",
      "our canine pets\n",
      "Dogs are furry animals\n",
      "\n"
     ]
    }
   ],
   "source": [
    "print(entire_text)"
   ]
  },
  {
   "cell_type": "markdown",
   "id": "0a5576ce",
   "metadata": {},
   "source": [
    "### Read Each Line as a list"
   ]
  },
  {
   "cell_type": "code",
   "execution_count": 9,
   "id": "764485d7",
   "metadata": {},
   "outputs": [],
   "source": [
    "with open('One.txt') as mystring:\n",
    "    lines = mystring.readlines()"
   ]
  },
  {
   "cell_type": "code",
   "execution_count": 10,
   "id": "db95c25c",
   "metadata": {},
   "outputs": [
    {
     "data": {
      "text/plain": [
       "['This is a story about dogs\\n',\n",
       " 'our canine pets\\n',\n",
       " 'Dogs are furry animals\\n']"
      ]
     },
     "execution_count": 10,
     "metadata": {},
     "output_type": "execute_result"
    }
   ],
   "source": [
    "lines"
   ]
  },
  {
   "cell_type": "markdown",
   "id": "0dd98f77",
   "metadata": {},
   "source": [
    "### Reading in Words separately"
   ]
  },
  {
   "cell_type": "code",
   "execution_count": 11,
   "id": "f5fd046e",
   "metadata": {},
   "outputs": [],
   "source": [
    "with open('One.txt') as f:\n",
    "    words = f.read().lower().split()"
   ]
  },
  {
   "cell_type": "code",
   "execution_count": 12,
   "id": "724cb04f",
   "metadata": {},
   "outputs": [
    {
     "data": {
      "text/plain": [
       "['this',\n",
       " 'is',\n",
       " 'a',\n",
       " 'story',\n",
       " 'about',\n",
       " 'dogs',\n",
       " 'our',\n",
       " 'canine',\n",
       " 'pets',\n",
       " 'dogs',\n",
       " 'are',\n",
       " 'furry',\n",
       " 'animals']"
      ]
     },
     "execution_count": 12,
     "metadata": {},
     "output_type": "execute_result"
    }
   ],
   "source": [
    "words"
   ]
  },
  {
   "cell_type": "markdown",
   "id": "6ebbd80f",
   "metadata": {},
   "source": [
    "### Creating a \"Bag of Words\""
   ]
  },
  {
   "cell_type": "code",
   "execution_count": 13,
   "id": "bff88e1e",
   "metadata": {},
   "outputs": [],
   "source": [
    "with open(\"One.txt\") as f:\n",
    "    words_one = f.read().lower().split()"
   ]
  },
  {
   "cell_type": "code",
   "execution_count": 14,
   "id": "a3a2df4c",
   "metadata": {},
   "outputs": [
    {
     "data": {
      "text/plain": [
       "['this',\n",
       " 'is',\n",
       " 'a',\n",
       " 'story',\n",
       " 'about',\n",
       " 'dogs',\n",
       " 'our',\n",
       " 'canine',\n",
       " 'pets',\n",
       " 'dogs',\n",
       " 'are',\n",
       " 'furry',\n",
       " 'animals']"
      ]
     },
     "execution_count": 14,
     "metadata": {},
     "output_type": "execute_result"
    }
   ],
   "source": [
    "words_one"
   ]
  },
  {
   "cell_type": "code",
   "execution_count": 15,
   "id": "33e84222",
   "metadata": {},
   "outputs": [
    {
     "data": {
      "text/plain": [
       "13"
      ]
     },
     "execution_count": 15,
     "metadata": {},
     "output_type": "execute_result"
    }
   ],
   "source": [
    "len(words_one)"
   ]
  },
  {
   "cell_type": "code",
   "execution_count": 18,
   "id": "f145cfe8",
   "metadata": {},
   "outputs": [],
   "source": [
    "unique_words_one = set(words_one)"
   ]
  },
  {
   "cell_type": "code",
   "execution_count": 19,
   "id": "23b1d9c2",
   "metadata": {},
   "outputs": [
    {
     "data": {
      "text/plain": [
       "12"
      ]
     },
     "execution_count": 19,
     "metadata": {},
     "output_type": "execute_result"
    }
   ],
   "source": [
    "len(unique_words_one)"
   ]
  },
  {
   "cell_type": "code",
   "execution_count": 20,
   "id": "0295d616",
   "metadata": {},
   "outputs": [],
   "source": [
    "#repeat for two.txt\n",
    "\n",
    "with open('Two.txt') as f:\n",
    "    words_two = f.read().lower().split()\n",
    "    unique_words_two = set(words_two)"
   ]
  },
  {
   "cell_type": "markdown",
   "id": "c2e7d99d",
   "metadata": {},
   "source": [
    "### Get all the unique words across all the documents"
   ]
  },
  {
   "cell_type": "code",
   "execution_count": 26,
   "id": "27d57a77",
   "metadata": {},
   "outputs": [],
   "source": [
    "all_unique_words = set()\n",
    "all_unique_words.update(unique_words_one)\n",
    "all_unique_words.update(unique_words_two)"
   ]
  },
  {
   "cell_type": "code",
   "execution_count": 25,
   "id": "7d3ebda2",
   "metadata": {},
   "outputs": [
    {
     "data": {
      "text/plain": [
       "{'a',\n",
       " 'about',\n",
       " 'animals',\n",
       " 'are',\n",
       " 'canine',\n",
       " 'catching',\n",
       " 'dogs',\n",
       " 'fun',\n",
       " 'furry',\n",
       " 'is',\n",
       " 'our',\n",
       " 'pets',\n",
       " 'popular',\n",
       " 'sport',\n",
       " 'story',\n",
       " 'surfing',\n",
       " 'this',\n",
       " 'water',\n",
       " 'waves'}"
      ]
     },
     "execution_count": 25,
     "metadata": {},
     "output_type": "execute_result"
    }
   ],
   "source": [
    "all_unique_words"
   ]
  },
  {
   "cell_type": "code",
   "execution_count": 27,
   "id": "0c030929",
   "metadata": {},
   "outputs": [],
   "source": [
    "full_vocab = dict()\n",
    "i = 0\n",
    "\n",
    "for w in all_unique_words:\n",
    "    full_vocab[w] = i\n",
    "    i = i+1"
   ]
  },
  {
   "cell_type": "code",
   "execution_count": 28,
   "id": "f16448d9",
   "metadata": {},
   "outputs": [
    {
     "data": {
      "text/plain": [
       "{'surfing': 0,\n",
       " 'sport': 1,\n",
       " 'about': 2,\n",
       " 'canine': 3,\n",
       " 'furry': 4,\n",
       " 'our': 5,\n",
       " 'dogs': 6,\n",
       " 'a': 7,\n",
       " 'animals': 8,\n",
       " 'popular': 9,\n",
       " 'catching': 10,\n",
       " 'fun': 11,\n",
       " 'are': 12,\n",
       " 'water': 13,\n",
       " 'waves': 14,\n",
       " 'pets': 15,\n",
       " 'is': 16,\n",
       " 'this': 17,\n",
       " 'story': 18}"
      ]
     },
     "execution_count": 28,
     "metadata": {},
     "output_type": "execute_result"
    }
   ],
   "source": [
    "full_vocab"
   ]
  },
  {
   "cell_type": "markdown",
   "id": "28c4d12a",
   "metadata": {},
   "source": [
    "#### Bag of Words to Frequency Counts"
   ]
  },
  {
   "cell_type": "code",
   "execution_count": 32,
   "id": "11fea553",
   "metadata": {},
   "outputs": [],
   "source": [
    "one_freq = [0]*len(full_vocab)\n",
    "two_freq = [0]*len(full_vocab)\n",
    "all_words = ['']*len(full_vocab)"
   ]
  },
  {
   "cell_type": "code",
   "execution_count": 33,
   "id": "ec569657",
   "metadata": {},
   "outputs": [
    {
     "data": {
      "text/plain": [
       "[0, 0, 0, 0, 0, 0, 0, 0, 0, 0, 0, 0, 0, 0, 0, 0, 0, 0, 0]"
      ]
     },
     "execution_count": 33,
     "metadata": {},
     "output_type": "execute_result"
    }
   ],
   "source": [
    "one_freq"
   ]
  },
  {
   "cell_type": "code",
   "execution_count": 34,
   "id": "46224d14",
   "metadata": {},
   "outputs": [
    {
     "data": {
      "text/plain": [
       "[0, 0, 0, 0, 0, 0, 0, 0, 0, 0, 0, 0, 0, 0, 0, 0, 0, 0, 0]"
      ]
     },
     "execution_count": 34,
     "metadata": {},
     "output_type": "execute_result"
    }
   ],
   "source": [
    "two_freq"
   ]
  },
  {
   "cell_type": "code",
   "execution_count": 35,
   "id": "88855e7d",
   "metadata": {},
   "outputs": [
    {
     "data": {
      "text/plain": [
       "['', '', '', '', '', '', '', '', '', '', '', '', '', '', '', '', '', '', '']"
      ]
     },
     "execution_count": 35,
     "metadata": {},
     "output_type": "execute_result"
    }
   ],
   "source": [
    "all_words"
   ]
  },
  {
   "cell_type": "code",
   "execution_count": 36,
   "id": "9de0c1fd",
   "metadata": {},
   "outputs": [],
   "source": [
    "for w in full_vocab:\n",
    "    word_ind = full_vocab[w]\n",
    "    all_words[word_ind] = w"
   ]
  },
  {
   "cell_type": "code",
   "execution_count": 37,
   "id": "b031ac04",
   "metadata": {},
   "outputs": [
    {
     "data": {
      "text/plain": [
       "['surfing',\n",
       " 'sport',\n",
       " 'about',\n",
       " 'canine',\n",
       " 'furry',\n",
       " 'our',\n",
       " 'dogs',\n",
       " 'a',\n",
       " 'animals',\n",
       " 'popular',\n",
       " 'catching',\n",
       " 'fun',\n",
       " 'are',\n",
       " 'water',\n",
       " 'waves',\n",
       " 'pets',\n",
       " 'is',\n",
       " 'this',\n",
       " 'story']"
      ]
     },
     "execution_count": 37,
     "metadata": {},
     "output_type": "execute_result"
    }
   ],
   "source": [
    "all_words"
   ]
  },
  {
   "cell_type": "code",
   "execution_count": 38,
   "id": "e5002710",
   "metadata": {},
   "outputs": [],
   "source": [
    "### Add in counts per word per document\n",
    "\n",
    "with open('One.txt') as f:\n",
    "    one_text = f.read().lower().split()\n",
    "    \n",
    "for word in one_text:\n",
    "    word_ind = full_vocab[word]\n",
    "    one_freq[word_ind] = one_freq[word_ind]+1"
   ]
  },
  {
   "cell_type": "code",
   "execution_count": 47,
   "id": "67e58c5c",
   "metadata": {},
   "outputs": [
    {
     "data": {
      "text/plain": [
       "['this',\n",
       " 'is',\n",
       " 'a',\n",
       " 'story',\n",
       " 'about',\n",
       " 'dogs',\n",
       " 'our',\n",
       " 'canine',\n",
       " 'pets',\n",
       " 'dogs',\n",
       " 'are',\n",
       " 'furry',\n",
       " 'animals']"
      ]
     },
     "execution_count": 47,
     "metadata": {},
     "output_type": "execute_result"
    }
   ],
   "source": [
    "one_text"
   ]
  },
  {
   "cell_type": "code",
   "execution_count": 39,
   "id": "620ec3a3",
   "metadata": {},
   "outputs": [
    {
     "data": {
      "text/plain": [
       "[0, 0, 1, 1, 1, 1, 2, 1, 1, 0, 0, 0, 1, 0, 0, 1, 1, 1, 1]"
      ]
     },
     "execution_count": 39,
     "metadata": {},
     "output_type": "execute_result"
    }
   ],
   "source": [
    "one_freq"
   ]
  },
  {
   "cell_type": "code",
   "execution_count": 42,
   "id": "538c31ef",
   "metadata": {},
   "outputs": [],
   "source": [
    "with open('Two.txt') as f:\n",
    "    two_text = f.read().lower().split()\n",
    "    \n",
    "for word in two_text:\n",
    "    word_ind = full_vocab[word]\n",
    "    two_freq[word_ind] = two_freq[word_ind]+1"
   ]
  },
  {
   "cell_type": "code",
   "execution_count": 43,
   "id": "fcea65c0",
   "metadata": {},
   "outputs": [
    {
     "data": {
      "text/plain": [
       "[2, 1, 1, 0, 0, 0, 0, 1, 0, 1, 1, 1, 0, 1, 1, 0, 3, 1, 1]"
      ]
     },
     "execution_count": 43,
     "metadata": {},
     "output_type": "execute_result"
    }
   ],
   "source": [
    "two_freq"
   ]
  },
  {
   "cell_type": "code",
   "execution_count": 46,
   "id": "32ed1ac8",
   "metadata": {},
   "outputs": [
    {
     "data": {
      "text/html": [
       "<div>\n",
       "<style scoped>\n",
       "    .dataframe tbody tr th:only-of-type {\n",
       "        vertical-align: middle;\n",
       "    }\n",
       "\n",
       "    .dataframe tbody tr th {\n",
       "        vertical-align: top;\n",
       "    }\n",
       "\n",
       "    .dataframe thead th {\n",
       "        text-align: right;\n",
       "    }\n",
       "</style>\n",
       "<table border=\"1\" class=\"dataframe\">\n",
       "  <thead>\n",
       "    <tr style=\"text-align: right;\">\n",
       "      <th></th>\n",
       "      <th>surfing</th>\n",
       "      <th>sport</th>\n",
       "      <th>about</th>\n",
       "      <th>canine</th>\n",
       "      <th>furry</th>\n",
       "      <th>our</th>\n",
       "      <th>dogs</th>\n",
       "      <th>a</th>\n",
       "      <th>animals</th>\n",
       "      <th>popular</th>\n",
       "      <th>catching</th>\n",
       "      <th>fun</th>\n",
       "      <th>are</th>\n",
       "      <th>water</th>\n",
       "      <th>waves</th>\n",
       "      <th>pets</th>\n",
       "      <th>is</th>\n",
       "      <th>this</th>\n",
       "      <th>story</th>\n",
       "    </tr>\n",
       "  </thead>\n",
       "  <tbody>\n",
       "    <tr>\n",
       "      <th>0</th>\n",
       "      <td>0</td>\n",
       "      <td>0</td>\n",
       "      <td>1</td>\n",
       "      <td>1</td>\n",
       "      <td>1</td>\n",
       "      <td>1</td>\n",
       "      <td>2</td>\n",
       "      <td>1</td>\n",
       "      <td>1</td>\n",
       "      <td>0</td>\n",
       "      <td>0</td>\n",
       "      <td>0</td>\n",
       "      <td>1</td>\n",
       "      <td>0</td>\n",
       "      <td>0</td>\n",
       "      <td>1</td>\n",
       "      <td>1</td>\n",
       "      <td>1</td>\n",
       "      <td>1</td>\n",
       "    </tr>\n",
       "    <tr>\n",
       "      <th>1</th>\n",
       "      <td>2</td>\n",
       "      <td>1</td>\n",
       "      <td>1</td>\n",
       "      <td>0</td>\n",
       "      <td>0</td>\n",
       "      <td>0</td>\n",
       "      <td>0</td>\n",
       "      <td>1</td>\n",
       "      <td>0</td>\n",
       "      <td>1</td>\n",
       "      <td>1</td>\n",
       "      <td>1</td>\n",
       "      <td>0</td>\n",
       "      <td>1</td>\n",
       "      <td>1</td>\n",
       "      <td>0</td>\n",
       "      <td>3</td>\n",
       "      <td>1</td>\n",
       "      <td>1</td>\n",
       "    </tr>\n",
       "  </tbody>\n",
       "</table>\n",
       "</div>"
      ],
      "text/plain": [
       "   surfing  sport  about  canine  furry  our  dogs  a  animals  popular  \\\n",
       "0        0      0      1       1      1    1     2  1        1        0   \n",
       "1        2      1      1       0      0    0     0  1        0        1   \n",
       "\n",
       "   catching  fun  are  water  waves  pets  is  this  story  \n",
       "0         0    0    1      0      0     1   1     1      1  \n",
       "1         1    1    0      1      1     0   3     1      1  "
      ]
     },
     "execution_count": 46,
     "metadata": {},
     "output_type": "execute_result"
    }
   ],
   "source": [
    "import pandas as pd\n",
    "pd.DataFrame(data=[one_freq,two_freq],columns=all_words)"
   ]
  },
  {
   "cell_type": "code",
   "execution_count": null,
   "id": "6199c60f",
   "metadata": {},
   "outputs": [],
   "source": []
  }
 ],
 "metadata": {
  "kernelspec": {
   "display_name": "Python 3 (ipykernel)",
   "language": "python",
   "name": "python3"
  },
  "language_info": {
   "codemirror_mode": {
    "name": "ipython",
    "version": 3
   },
   "file_extension": ".py",
   "mimetype": "text/x-python",
   "name": "python",
   "nbconvert_exporter": "python",
   "pygments_lexer": "ipython3",
   "version": "3.11.5"
  }
 },
 "nbformat": 4,
 "nbformat_minor": 5
}
