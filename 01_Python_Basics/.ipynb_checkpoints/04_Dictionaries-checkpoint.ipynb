{
 "cells": [
  {
   "cell_type": "code",
   "execution_count": 8,
   "id": "7709b09c",
   "metadata": {},
   "outputs": [],
   "source": [
    "mydictionary = {'k1':'value1','key2':4}"
   ]
  },
  {
   "cell_type": "code",
   "execution_count": 2,
   "id": "d0b8da05",
   "metadata": {},
   "outputs": [
    {
     "data": {
      "text/plain": [
       "{'k1': 'value1', 'key2': 4}"
      ]
     },
     "execution_count": 2,
     "metadata": {},
     "output_type": "execute_result"
    }
   ],
   "source": [
    "mydictionary"
   ]
  },
  {
   "cell_type": "code",
   "execution_count": 59,
   "id": "496e8595",
   "metadata": {},
   "outputs": [
    {
     "ename": "KeyError",
     "evalue": "0",
     "output_type": "error",
     "traceback": [
      "\u001b[0;31m---------------------------------------------------------------------------\u001b[0m",
      "\u001b[0;31mKeyError\u001b[0m                                  Traceback (most recent call last)",
      "Cell \u001b[0;32mIn[59], line 1\u001b[0m\n\u001b[0;32m----> 1\u001b[0m mydictionary[\u001b[38;5;241m0\u001b[39m]\n",
      "\u001b[0;31mKeyError\u001b[0m: 0"
     ]
    }
   ],
   "source": [
    "mydictionary[0]"
   ]
  },
  {
   "cell_type": "code",
   "execution_count": 3,
   "id": "bc2aeb58",
   "metadata": {},
   "outputs": [
    {
     "data": {
      "text/plain": [
       "dict"
      ]
     },
     "execution_count": 3,
     "metadata": {},
     "output_type": "execute_result"
    }
   ],
   "source": [
    "type(mydictionary)"
   ]
  },
  {
   "cell_type": "code",
   "execution_count": 2,
   "id": "5927b7d8",
   "metadata": {},
   "outputs": [],
   "source": [
    "x = {'k1':[23,'hello',[21,'shreyas'],34.9],'k2':{'kk1':'vv1','kk2':'hi'}}"
   ]
  },
  {
   "cell_type": "code",
   "execution_count": 3,
   "id": "11e87c91",
   "metadata": {},
   "outputs": [
    {
     "data": {
      "text/plain": [
       "[23, 'hello', [21, 'shreyas'], 34.9]"
      ]
     },
     "execution_count": 3,
     "metadata": {},
     "output_type": "execute_result"
    }
   ],
   "source": [
    "x[\"k1\"]"
   ]
  },
  {
   "cell_type": "code",
   "execution_count": 14,
   "id": "dc11a924",
   "metadata": {},
   "outputs": [
    {
     "data": {
      "text/plain": [
       "7"
      ]
     },
     "execution_count": 14,
     "metadata": {},
     "output_type": "execute_result"
    }
   ],
   "source": [
    "len(x['k1'][-2][-1])"
   ]
  },
  {
   "cell_type": "code",
   "execution_count": 12,
   "id": "5c8d3093",
   "metadata": {},
   "outputs": [
    {
     "data": {
      "text/plain": [
       "'hi'"
      ]
     },
     "execution_count": 12,
     "metadata": {},
     "output_type": "execute_result"
    }
   ],
   "source": [
    "x['k2']['kk2']"
   ]
  },
  {
   "cell_type": "code",
   "execution_count": 6,
   "id": "3b1113bb",
   "metadata": {},
   "outputs": [
    {
     "data": {
      "text/plain": [
       "'H'"
      ]
     },
     "execution_count": 6,
     "metadata": {},
     "output_type": "execute_result"
    }
   ],
   "source": [
    "x['k1'][1].capitalize()[0]"
   ]
  },
  {
   "cell_type": "code",
   "execution_count": 11,
   "id": "a372b57e",
   "metadata": {},
   "outputs": [],
   "source": [
    "mydictionary['key2'] = mydictionary['key2'] - 2"
   ]
  },
  {
   "cell_type": "code",
   "execution_count": 13,
   "id": "18066490",
   "metadata": {},
   "outputs": [],
   "source": [
    "mydictionary['updated_key'] = mydictionary['key2']+12"
   ]
  },
  {
   "cell_type": "code",
   "execution_count": 14,
   "id": "e24425ef",
   "metadata": {},
   "outputs": [
    {
     "data": {
      "text/plain": [
       "{'k1': 'value1', 'key2': 2, 'updated_key': 14}"
      ]
     },
     "execution_count": 14,
     "metadata": {},
     "output_type": "execute_result"
    }
   ],
   "source": [
    "mydictionary"
   ]
  },
  {
   "cell_type": "code",
   "execution_count": 17,
   "id": "fb412c00",
   "metadata": {},
   "outputs": [],
   "source": [
    "mydictionary['key2'] *= 2"
   ]
  },
  {
   "cell_type": "code",
   "execution_count": 18,
   "id": "54e4f7fe",
   "metadata": {},
   "outputs": [
    {
     "data": {
      "text/plain": [
       "{'k1': 'value1', 'key2': 8, 'updated_key': 14}"
      ]
     },
     "execution_count": 18,
     "metadata": {},
     "output_type": "execute_result"
    }
   ],
   "source": [
    "mydictionary"
   ]
  },
  {
   "cell_type": "code",
   "execution_count": 19,
   "id": "698f041e",
   "metadata": {},
   "outputs": [],
   "source": [
    "d = {}  #create an empty dictionary"
   ]
  },
  {
   "cell_type": "code",
   "execution_count": 20,
   "id": "fb9e27b0",
   "metadata": {},
   "outputs": [],
   "source": [
    "d['k1'] = [12,21,31,13]"
   ]
  },
  {
   "cell_type": "code",
   "execution_count": 21,
   "id": "3c51471d",
   "metadata": {},
   "outputs": [
    {
     "data": {
      "text/plain": [
       "{'k1': [12, 21, 31, 13]}"
      ]
     },
     "execution_count": 21,
     "metadata": {},
     "output_type": "execute_result"
    }
   ],
   "source": [
    "d"
   ]
  },
  {
   "cell_type": "code",
   "execution_count": 22,
   "id": "710b15ea",
   "metadata": {},
   "outputs": [],
   "source": [
    "d['k2'] = 'hello'"
   ]
  },
  {
   "cell_type": "code",
   "execution_count": 23,
   "id": "3b70c166",
   "metadata": {},
   "outputs": [
    {
     "data": {
      "text/plain": [
       "{'k1': [12, 21, 31, 13], 'k2': 'hello'}"
      ]
     },
     "execution_count": 23,
     "metadata": {},
     "output_type": "execute_result"
    }
   ],
   "source": [
    "d"
   ]
  },
  {
   "cell_type": "markdown",
   "id": "a9b834ea",
   "metadata": {},
   "source": [
    "#### Dictionary Methods"
   ]
  },
  {
   "cell_type": "code",
   "execution_count": 24,
   "id": "eb315df1",
   "metadata": {},
   "outputs": [],
   "source": [
    "d = {'k1':1,'k2':2,'k3':3}"
   ]
  },
  {
   "cell_type": "code",
   "execution_count": 25,
   "id": "92c2bd7d",
   "metadata": {},
   "outputs": [
    {
     "data": {
      "text/plain": [
       "dict_keys(['k1', 'k2', 'k3'])"
      ]
     },
     "execution_count": 25,
     "metadata": {},
     "output_type": "execute_result"
    }
   ],
   "source": [
    "d.keys()"
   ]
  },
  {
   "cell_type": "code",
   "execution_count": 61,
   "id": "9f311c88",
   "metadata": {},
   "outputs": [
    {
     "data": {
      "text/plain": [
       "['k1', 'k2', 'k3']"
      ]
     },
     "execution_count": 61,
     "metadata": {},
     "output_type": "execute_result"
    }
   ],
   "source": [
    "list(d.keys())"
   ]
  },
  {
   "cell_type": "code",
   "execution_count": 28,
   "id": "55be3cc0",
   "metadata": {
    "scrolled": true
   },
   "outputs": [
    {
     "data": {
      "text/plain": [
       "dict_values([1, 2, 3])"
      ]
     },
     "execution_count": 28,
     "metadata": {},
     "output_type": "execute_result"
    }
   ],
   "source": [
    "d.values()"
   ]
  },
  {
   "cell_type": "code",
   "execution_count": 60,
   "id": "7b62fb15",
   "metadata": {},
   "outputs": [
    {
     "data": {
      "text/plain": [
       "[1, 2, 3]"
      ]
     },
     "execution_count": 60,
     "metadata": {},
     "output_type": "execute_result"
    }
   ],
   "source": [
    "list(d.values())"
   ]
  },
  {
   "cell_type": "code",
   "execution_count": 29,
   "id": "e516212d",
   "metadata": {},
   "outputs": [
    {
     "data": {
      "text/plain": [
       "dict_items([('k1', 1), ('k2', 2), ('k3', 3)])"
      ]
     },
     "execution_count": 29,
     "metadata": {},
     "output_type": "execute_result"
    }
   ],
   "source": [
    "#method to return tuples of all items\n",
    "d.items()"
   ]
  },
  {
   "cell_type": "code",
   "execution_count": 31,
   "id": "7fc273b0",
   "metadata": {},
   "outputs": [],
   "source": [
    "prac_dict = {'key1':[{'k2':[32,'Hello!!',{'name':['Shreyas.']}]}],'sentence':' I am ', 'key2':['HMLPA',{'institute':' IITr and RBPL '}, ' Course name is ', ', brought to you by']}"
   ]
  },
  {
   "cell_type": "markdown",
   "id": "2b7dcc10",
   "metadata": {},
   "source": [
    "1. Hello!! I am Shreyas. \n",
    "2. Course name is HMLPA, brought to you by IITr and RBPL"
   ]
  },
  {
   "cell_type": "code",
   "execution_count": 56,
   "id": "d272ab09",
   "metadata": {},
   "outputs": [
    {
     "data": {
      "text/plain": [
       "'Hello!! I am Shreyas. Course name is HMLPA, brought to you by IITr and RBPL.'"
      ]
     },
     "execution_count": 56,
     "metadata": {},
     "output_type": "execute_result"
    }
   ],
   "source": [
    "prac_dict['key1'][0]['k2'][1]+prac_dict['sentence']+prac_dict['key1'][0]['k2'][2]['name'][0]+prac_dict['key2'][-2]+prac_dict['key2'][0]+prac_dict['key2'][-1]+prac_dict['key2'][1]['institute'][:-1]+'.'"
   ]
  },
  {
   "cell_type": "code",
   "execution_count": null,
   "id": "5d041876",
   "metadata": {},
   "outputs": [],
   "source": []
  }
 ],
 "metadata": {
  "kernelspec": {
   "display_name": "Python 3 (ipykernel)",
   "language": "python",
   "name": "python3"
  },
  "language_info": {
   "codemirror_mode": {
    "name": "ipython",
    "version": 3
   },
   "file_extension": ".py",
   "mimetype": "text/x-python",
   "name": "python",
   "nbconvert_exporter": "python",
   "pygments_lexer": "ipython3",
   "version": "3.11.5"
  }
 },
 "nbformat": 4,
 "nbformat_minor": 5
}
