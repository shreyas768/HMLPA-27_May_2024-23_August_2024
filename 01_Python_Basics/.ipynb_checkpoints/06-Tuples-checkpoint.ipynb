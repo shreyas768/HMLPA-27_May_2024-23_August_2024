{
 "cells": [
  {
   "cell_type": "markdown",
   "id": "90979a34",
   "metadata": {},
   "source": [
    "They are like Lists but they are immutable"
   ]
  },
  {
   "cell_type": "code",
   "execution_count": 1,
   "id": "96a7d497",
   "metadata": {},
   "outputs": [],
   "source": [
    "#create a tuple\n",
    "t = (1,'hi',3)"
   ]
  },
  {
   "cell_type": "code",
   "execution_count": 2,
   "id": "1c6d8296",
   "metadata": {},
   "outputs": [
    {
     "data": {
      "text/plain": [
       "'hi'"
      ]
     },
     "execution_count": 2,
     "metadata": {},
     "output_type": "execute_result"
    }
   ],
   "source": [
    "t[1]"
   ]
  },
  {
   "cell_type": "code",
   "execution_count": 4,
   "id": "e4142009",
   "metadata": {},
   "outputs": [
    {
     "data": {
      "text/plain": [
       "('hi', 3)"
      ]
     },
     "execution_count": 4,
     "metadata": {},
     "output_type": "execute_result"
    }
   ],
   "source": [
    "t[1:3]"
   ]
  },
  {
   "cell_type": "code",
   "execution_count": 5,
   "id": "504caa71",
   "metadata": {},
   "outputs": [
    {
     "data": {
      "text/plain": [
       "1"
      ]
     },
     "execution_count": 5,
     "metadata": {},
     "output_type": "execute_result"
    }
   ],
   "source": [
    "t.index('hi')"
   ]
  },
  {
   "cell_type": "code",
   "execution_count": 6,
   "id": "64f93a20",
   "metadata": {},
   "outputs": [],
   "source": [
    "t = (1,[23,21,'hello'])"
   ]
  },
  {
   "cell_type": "code",
   "execution_count": 7,
   "id": "baabed58",
   "metadata": {},
   "outputs": [],
   "source": [
    "lst1 = [1,2,3]"
   ]
  },
  {
   "cell_type": "code",
   "execution_count": 9,
   "id": "84a63cc5",
   "metadata": {},
   "outputs": [
    {
     "data": {
      "text/plain": [
       "[1, 2, 3]"
      ]
     },
     "execution_count": 9,
     "metadata": {},
     "output_type": "execute_result"
    }
   ],
   "source": [
    "lst1"
   ]
  },
  {
   "cell_type": "code",
   "execution_count": 11,
   "id": "01ef8e1a",
   "metadata": {},
   "outputs": [],
   "source": [
    "lst1[0] = ['hi',45]"
   ]
  },
  {
   "cell_type": "code",
   "execution_count": 12,
   "id": "f5001980",
   "metadata": {},
   "outputs": [
    {
     "data": {
      "text/plain": [
       "[['hi', 45], 2, 3]"
      ]
     },
     "execution_count": 12,
     "metadata": {},
     "output_type": "execute_result"
    }
   ],
   "source": [
    "lst1"
   ]
  },
  {
   "cell_type": "code",
   "execution_count": 13,
   "id": "ad9e0684",
   "metadata": {},
   "outputs": [],
   "source": [
    "tup1 = (1,2,3)"
   ]
  },
  {
   "cell_type": "code",
   "execution_count": 14,
   "id": "ed737f51",
   "metadata": {},
   "outputs": [
    {
     "ename": "TypeError",
     "evalue": "'tuple' object does not support item assignment",
     "output_type": "error",
     "traceback": [
      "\u001b[0;31m---------------------------------------------------------------------------\u001b[0m",
      "\u001b[0;31mTypeError\u001b[0m                                 Traceback (most recent call last)",
      "Cell \u001b[0;32mIn[14], line 1\u001b[0m\n\u001b[0;32m----> 1\u001b[0m tup1[\u001b[38;5;241m0\u001b[39m] \u001b[38;5;241m=\u001b[39m [\u001b[38;5;124m'\u001b[39m\u001b[38;5;124mhi\u001b[39m\u001b[38;5;124m'\u001b[39m,\u001b[38;5;241m45\u001b[39m]\n",
      "\u001b[0;31mTypeError\u001b[0m: 'tuple' object does not support item assignment"
     ]
    }
   ],
   "source": [
    "tup1[0] = ['hi',45]"
   ]
  },
  {
   "cell_type": "code",
   "execution_count": 15,
   "id": "60902cf4",
   "metadata": {},
   "outputs": [],
   "source": [
    "#data integrity"
   ]
  },
  {
   "cell_type": "code",
   "execution_count": 16,
   "id": "b1047996",
   "metadata": {},
   "outputs": [
    {
     "ename": "AttributeError",
     "evalue": "'tuple' object has no attribute 'append'",
     "output_type": "error",
     "traceback": [
      "\u001b[0;31m---------------------------------------------------------------------------\u001b[0m",
      "\u001b[0;31mAttributeError\u001b[0m                            Traceback (most recent call last)",
      "Cell \u001b[0;32mIn[16], line 1\u001b[0m\n\u001b[0;32m----> 1\u001b[0m t\u001b[38;5;241m.\u001b[39mappend(\u001b[38;5;241m2\u001b[39m)\n",
      "\u001b[0;31mAttributeError\u001b[0m: 'tuple' object has no attribute 'append'"
     ]
    }
   ],
   "source": [
    "t.append(2)"
   ]
  },
  {
   "cell_type": "code",
   "execution_count": 17,
   "id": "dd460031",
   "metadata": {},
   "outputs": [
    {
     "ename": "AttributeError",
     "evalue": "'tuple' object has no attribute 'pop'",
     "output_type": "error",
     "traceback": [
      "\u001b[0;31m---------------------------------------------------------------------------\u001b[0m",
      "\u001b[0;31mAttributeError\u001b[0m                            Traceback (most recent call last)",
      "Cell \u001b[0;32mIn[17], line 1\u001b[0m\n\u001b[0;32m----> 1\u001b[0m t\u001b[38;5;241m.\u001b[39mpop(\u001b[38;5;241m3\u001b[39m)\n",
      "\u001b[0;31mAttributeError\u001b[0m: 'tuple' object has no attribute 'pop'"
     ]
    }
   ],
   "source": [
    "t.pop(3)"
   ]
  },
  {
   "cell_type": "code",
   "execution_count": null,
   "id": "102bdfe2",
   "metadata": {},
   "outputs": [],
   "source": []
  }
 ],
 "metadata": {
  "kernelspec": {
   "display_name": "Python 3 (ipykernel)",
   "language": "python",
   "name": "python3"
  },
  "language_info": {
   "codemirror_mode": {
    "name": "ipython",
    "version": 3
   },
   "file_extension": ".py",
   "mimetype": "text/x-python",
   "name": "python",
   "nbconvert_exporter": "python",
   "pygments_lexer": "ipython3",
   "version": "3.11.5"
  }
 },
 "nbformat": 4,
 "nbformat_minor": 5
}
