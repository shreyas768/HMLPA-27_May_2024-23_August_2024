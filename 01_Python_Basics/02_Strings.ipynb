{
 "cells": [
  {
   "cell_type": "markdown",
   "id": "9ba417e1",
   "metadata": {},
   "source": [
    "### Creating a String"
   ]
  },
  {
   "cell_type": "code",
   "execution_count": 1,
   "id": "0e59d00f",
   "metadata": {},
   "outputs": [
    {
     "data": {
      "text/plain": [
       "'hello'"
      ]
     },
     "execution_count": 1,
     "metadata": {},
     "output_type": "execute_result"
    }
   ],
   "source": [
    "#single word\n",
    "'hello'"
   ]
  },
  {
   "cell_type": "code",
   "execution_count": 2,
   "id": "30a17d93",
   "metadata": {},
   "outputs": [
    {
     "data": {
      "text/plain": [
       "'this is also a string'"
      ]
     },
     "execution_count": 2,
     "metadata": {},
     "output_type": "execute_result"
    }
   ],
   "source": [
    "#entire phrase\n",
    "'this is also a string'"
   ]
  },
  {
   "cell_type": "code",
   "execution_count": 3,
   "id": "ae213d3f",
   "metadata": {},
   "outputs": [
    {
     "data": {
      "text/plain": [
       "'string can use double quotes as well'"
      ]
     },
     "execution_count": 3,
     "metadata": {},
     "output_type": "execute_result"
    }
   ],
   "source": [
    "#double quotes\n",
    "\"string can use double quotes as well\""
   ]
  },
  {
   "cell_type": "code",
   "execution_count": 4,
   "id": "0278f0ae",
   "metadata": {},
   "outputs": [
    {
     "ename": "SyntaxError",
     "evalue": "invalid syntax (2575479972.py, line 1)",
     "output_type": "error",
     "traceback": [
      "\u001b[0;36m  Cell \u001b[0;32mIn[4], line 1\u001b[0;36m\u001b[0m\n\u001b[0;31m    'I'm using single quotes here, but this will throw an error\u001b[0m\n\u001b[0m       ^\u001b[0m\n\u001b[0;31mSyntaxError\u001b[0m\u001b[0;31m:\u001b[0m invalid syntax\n"
     ]
    }
   ],
   "source": [
    "'I'm using single quotes here, but this will throw an error"
   ]
  },
  {
   "cell_type": "code",
   "execution_count": 5,
   "id": "7e0514ea",
   "metadata": {},
   "outputs": [
    {
     "data": {
      "text/plain": [
       "\"I'm using single quotes here and this will work fine\""
      ]
     },
     "execution_count": 5,
     "metadata": {},
     "output_type": "execute_result"
    }
   ],
   "source": [
    "\"I'm using single quotes here and this will work fine\""
   ]
  },
  {
   "cell_type": "markdown",
   "id": "0cc5be20",
   "metadata": {},
   "source": [
    "### Printing Strings"
   ]
  },
  {
   "cell_type": "code",
   "execution_count": 9,
   "id": "c03db949",
   "metadata": {},
   "outputs": [],
   "source": [
    "a = 'hello everyone'"
   ]
  },
  {
   "cell_type": "code",
   "execution_count": 7,
   "id": "599a7a4f",
   "metadata": {},
   "outputs": [
    {
     "data": {
      "text/plain": [
       "'hello everyone2'"
      ]
     },
     "execution_count": 7,
     "metadata": {},
     "output_type": "execute_result"
    }
   ],
   "source": [
    "'hello everyone1'\n",
    "'hello everyone2'"
   ]
  },
  {
   "cell_type": "code",
   "execution_count": 12,
   "id": "066ed12f",
   "metadata": {},
   "outputs": [
    {
     "name": "stdout",
     "output_type": "stream",
     "text": [
      "hello everyone1\n"
     ]
    }
   ],
   "source": [
    "b = print('hello everyone1')"
   ]
  },
  {
   "cell_type": "code",
   "execution_count": 11,
   "id": "a8505896",
   "metadata": {},
   "outputs": [
    {
     "data": {
      "text/plain": [
       "str"
      ]
     },
     "execution_count": 11,
     "metadata": {},
     "output_type": "execute_result"
    }
   ],
   "source": [
    "type(a)"
   ]
  },
  {
   "cell_type": "code",
   "execution_count": 13,
   "id": "3c892e24",
   "metadata": {},
   "outputs": [],
   "source": [
    "b"
   ]
  },
  {
   "cell_type": "code",
   "execution_count": 14,
   "id": "11c13033",
   "metadata": {},
   "outputs": [
    {
     "data": {
      "text/plain": [
       "NoneType"
      ]
     },
     "execution_count": 14,
     "metadata": {},
     "output_type": "execute_result"
    }
   ],
   "source": [
    "type(b)"
   ]
  },
  {
   "cell_type": "code",
   "execution_count": 17,
   "id": "53b9fa87",
   "metadata": {},
   "outputs": [
    {
     "name": "stdout",
     "output_type": "stream",
     "text": [
      "hello everyone1\n",
      "\n",
      "\n",
      "hello everyone2\n"
     ]
    }
   ],
   "source": [
    "print('hello everyone1')\n",
    "print('\\n')\n",
    "print('hello everyone2')"
   ]
  },
  {
   "cell_type": "code",
   "execution_count": 16,
   "id": "e48cbd6c",
   "metadata": {},
   "outputs": [
    {
     "name": "stdout",
     "output_type": "stream",
     "text": [
      "hello everyone1\n",
      "hello everyone2\n"
     ]
    }
   ],
   "source": [
    "print('hello everyone1\\nhello everyone2')"
   ]
  },
  {
   "cell_type": "code",
   "execution_count": 18,
   "id": "f4bdc278",
   "metadata": {},
   "outputs": [
    {
     "data": {
      "text/plain": [
       "14"
      ]
     },
     "execution_count": 18,
     "metadata": {},
     "output_type": "execute_result"
    }
   ],
   "source": [
    "len('hello everyone')"
   ]
  },
  {
   "cell_type": "markdown",
   "id": "c5a4132a",
   "metadata": {},
   "source": [
    "#### String Indexing"
   ]
  },
  {
   "cell_type": "code",
   "execution_count": 19,
   "id": "1892b702",
   "metadata": {},
   "outputs": [],
   "source": [
    "s = 'Hello HMLPA'"
   ]
  },
  {
   "cell_type": "code",
   "execution_count": 20,
   "id": "c2824f10",
   "metadata": {},
   "outputs": [
    {
     "data": {
      "text/plain": [
       "'Hello HMLPA'"
      ]
     },
     "execution_count": 20,
     "metadata": {},
     "output_type": "execute_result"
    }
   ],
   "source": [
    "s"
   ]
  },
  {
   "cell_type": "code",
   "execution_count": 21,
   "id": "07795044",
   "metadata": {},
   "outputs": [
    {
     "name": "stdout",
     "output_type": "stream",
     "text": [
      "Hello HMLPA\n"
     ]
    }
   ],
   "source": [
    "print(s)"
   ]
  },
  {
   "cell_type": "code",
   "execution_count": 22,
   "id": "6f255677",
   "metadata": {},
   "outputs": [
    {
     "data": {
      "text/plain": [
       "'H'"
      ]
     },
     "execution_count": 22,
     "metadata": {},
     "output_type": "execute_result"
    }
   ],
   "source": [
    "s[0]"
   ]
  },
  {
   "cell_type": "code",
   "execution_count": 23,
   "id": "7d9de92b",
   "metadata": {},
   "outputs": [
    {
     "data": {
      "text/plain": [
       "'e'"
      ]
     },
     "execution_count": 23,
     "metadata": {},
     "output_type": "execute_result"
    }
   ],
   "source": [
    "s[1]"
   ]
  },
  {
   "cell_type": "code",
   "execution_count": 24,
   "id": "9dcc08a8",
   "metadata": {},
   "outputs": [
    {
     "data": {
      "text/plain": [
       "'l'"
      ]
     },
     "execution_count": 24,
     "metadata": {},
     "output_type": "execute_result"
    }
   ],
   "source": [
    "s[2]"
   ]
  },
  {
   "cell_type": "code",
   "execution_count": 25,
   "id": "e852e335",
   "metadata": {},
   "outputs": [
    {
     "data": {
      "text/plain": [
       "'ello HMLPA'"
      ]
     },
     "execution_count": 25,
     "metadata": {},
     "output_type": "execute_result"
    }
   ],
   "source": [
    "s[1:] #grab everything past first term all the way to the length of s"
   ]
  },
  {
   "cell_type": "code",
   "execution_count": 26,
   "id": "996ef88d",
   "metadata": {},
   "outputs": [
    {
     "data": {
      "text/plain": [
       "'ell'"
      ]
     },
     "execution_count": 26,
     "metadata": {},
     "output_type": "execute_result"
    }
   ],
   "source": [
    "s[1:4]"
   ]
  },
  {
   "cell_type": "code",
   "execution_count": 33,
   "id": "e871adf0",
   "metadata": {},
   "outputs": [
    {
     "data": {
      "text/plain": [
       "'SrysS'"
      ]
     },
     "execution_count": 33,
     "metadata": {},
     "output_type": "execute_result"
    }
   ],
   "source": [
    "name = 'Shreyas Shukla'\n",
    "name[:-4:2]"
   ]
  },
  {
   "cell_type": "code",
   "execution_count": 34,
   "id": "7a8dede0",
   "metadata": {},
   "outputs": [
    {
     "data": {
      "text/plain": [
       "'alkuhS sayerhS'"
      ]
     },
     "execution_count": 34,
     "metadata": {},
     "output_type": "execute_result"
    }
   ],
   "source": [
    "#write a string backwards\n",
    "name[::-1]"
   ]
  },
  {
   "cell_type": "markdown",
   "id": "1c4aad4b",
   "metadata": {},
   "source": [
    "### String properties\n",
    "\n",
    "strings are immutable."
   ]
  },
  {
   "cell_type": "code",
   "execution_count": 35,
   "id": "455f481c",
   "metadata": {},
   "outputs": [
    {
     "data": {
      "text/plain": [
       "'Hello HMLPA'"
      ]
     },
     "execution_count": 35,
     "metadata": {},
     "output_type": "execute_result"
    }
   ],
   "source": [
    "s"
   ]
  },
  {
   "cell_type": "code",
   "execution_count": 36,
   "id": "2d5e3a2a",
   "metadata": {},
   "outputs": [
    {
     "ename": "TypeError",
     "evalue": "'str' object does not support item assignment",
     "output_type": "error",
     "traceback": [
      "\u001b[0;31m---------------------------------------------------------------------------\u001b[0m",
      "\u001b[0;31mTypeError\u001b[0m                                 Traceback (most recent call last)",
      "Cell \u001b[0;32mIn[36], line 1\u001b[0m\n\u001b[0;32m----> 1\u001b[0m s[\u001b[38;5;241m0\u001b[39m] \u001b[38;5;241m=\u001b[39m \u001b[38;5;124m'\u001b[39m\u001b[38;5;124mX\u001b[39m\u001b[38;5;124m'\u001b[39m\n",
      "\u001b[0;31mTypeError\u001b[0m: 'str' object does not support item assignment"
     ]
    }
   ],
   "source": [
    "s[0] = 'X'"
   ]
  },
  {
   "cell_type": "code",
   "execution_count": 42,
   "id": "1dfc53d7",
   "metadata": {},
   "outputs": [],
   "source": [
    "#concatenate strings\n",
    "t = s + ' concatenated string'"
   ]
  },
  {
   "cell_type": "code",
   "execution_count": 43,
   "id": "633fa9e3",
   "metadata": {},
   "outputs": [
    {
     "data": {
      "text/plain": [
       "'Hello HMLPA concatenated string'"
      ]
     },
     "execution_count": 43,
     "metadata": {},
     "output_type": "execute_result"
    }
   ],
   "source": [
    "t"
   ]
  },
  {
   "cell_type": "code",
   "execution_count": 39,
   "id": "2b3a1105",
   "metadata": {},
   "outputs": [
    {
     "data": {
      "text/plain": [
       "'Hello HMLPA'"
      ]
     },
     "execution_count": 39,
     "metadata": {},
     "output_type": "execute_result"
    }
   ],
   "source": [
    "s"
   ]
  },
  {
   "cell_type": "code",
   "execution_count": 46,
   "id": "f301f736",
   "metadata": {},
   "outputs": [],
   "source": [
    "s = 'X' + s[1:]"
   ]
  },
  {
   "cell_type": "code",
   "execution_count": 47,
   "id": "6c633985",
   "metadata": {},
   "outputs": [
    {
     "data": {
      "text/plain": [
       "'Xello HMLPA'"
      ]
     },
     "execution_count": 47,
     "metadata": {},
     "output_type": "execute_result"
    }
   ],
   "source": [
    "s"
   ]
  },
  {
   "cell_type": "code",
   "execution_count": 48,
   "id": "a032f2e6",
   "metadata": {},
   "outputs": [
    {
     "data": {
      "text/plain": [
       "6"
      ]
     },
     "execution_count": 48,
     "metadata": {},
     "output_type": "execute_result"
    }
   ],
   "source": [
    "2+4"
   ]
  },
  {
   "cell_type": "code",
   "execution_count": 49,
   "id": "e5d05f33",
   "metadata": {},
   "outputs": [
    {
     "data": {
      "text/plain": [
       "'24'"
      ]
     },
     "execution_count": 49,
     "metadata": {},
     "output_type": "execute_result"
    }
   ],
   "source": [
    "'2'+'4'"
   ]
  },
  {
   "cell_type": "code",
   "execution_count": 50,
   "id": "a25c7db9",
   "metadata": {},
   "outputs": [
    {
     "name": "stdout",
     "output_type": "stream",
     "text": [
      "6\n"
     ]
    }
   ],
   "source": [
    "print(2+4)"
   ]
  },
  {
   "cell_type": "code",
   "execution_count": 51,
   "id": "7f2e223a",
   "metadata": {},
   "outputs": [
    {
     "name": "stdout",
     "output_type": "stream",
     "text": [
      "24\n"
     ]
    }
   ],
   "source": [
    "print('2'+'4')"
   ]
  },
  {
   "cell_type": "code",
   "execution_count": 52,
   "id": "5e46943c",
   "metadata": {},
   "outputs": [
    {
     "data": {
      "text/plain": [
       "20"
      ]
     },
     "execution_count": 52,
     "metadata": {},
     "output_type": "execute_result"
    }
   ],
   "source": [
    "2*10"
   ]
  },
  {
   "cell_type": "code",
   "execution_count": 53,
   "id": "48091bf8",
   "metadata": {},
   "outputs": [
    {
     "data": {
      "text/plain": [
       "'2222222222'"
      ]
     },
     "execution_count": 53,
     "metadata": {},
     "output_type": "execute_result"
    }
   ],
   "source": [
    "'2'*10"
   ]
  },
  {
   "cell_type": "markdown",
   "id": "b1333f8f",
   "metadata": {},
   "source": [
    "#### Built-In String Methods\n",
    "\n",
    "* object.method(parameters)"
   ]
  },
  {
   "cell_type": "code",
   "execution_count": 54,
   "id": "7e1a717f",
   "metadata": {},
   "outputs": [
    {
     "data": {
      "text/plain": [
       "'Xello HMLPA'"
      ]
     },
     "execution_count": 54,
     "metadata": {},
     "output_type": "execute_result"
    }
   ],
   "source": [
    "s"
   ]
  },
  {
   "cell_type": "code",
   "execution_count": 56,
   "id": "75c361ea",
   "metadata": {},
   "outputs": [
    {
     "data": {
      "text/plain": [
       "'XELLO HMLPA'"
      ]
     },
     "execution_count": 56,
     "metadata": {},
     "output_type": "execute_result"
    }
   ],
   "source": [
    "#upper case\n",
    "s.upper()"
   ]
  },
  {
   "cell_type": "code",
   "execution_count": 57,
   "id": "27f8ea04",
   "metadata": {},
   "outputs": [
    {
     "data": {
      "text/plain": [
       "'Xello HMLPA'"
      ]
     },
     "execution_count": 57,
     "metadata": {},
     "output_type": "execute_result"
    }
   ],
   "source": [
    "s"
   ]
  },
  {
   "cell_type": "code",
   "execution_count": 61,
   "id": "8e851438",
   "metadata": {},
   "outputs": [],
   "source": [
    "t = s.upper()"
   ]
  },
  {
   "cell_type": "code",
   "execution_count": 62,
   "id": "645cc56f",
   "metadata": {},
   "outputs": [
    {
     "name": "stdout",
     "output_type": "stream",
     "text": [
      "XELLO HMLPA\n"
     ]
    }
   ],
   "source": [
    "print(t)"
   ]
  },
  {
   "cell_type": "code",
   "execution_count": 64,
   "id": "9c209548",
   "metadata": {},
   "outputs": [
    {
     "data": {
      "text/plain": [
       "'xello hmlpa'"
      ]
     },
     "execution_count": 64,
     "metadata": {},
     "output_type": "execute_result"
    }
   ],
   "source": [
    "#lower case\n",
    "t.lower()"
   ]
  },
  {
   "cell_type": "code",
   "execution_count": 65,
   "id": "472fc71e",
   "metadata": {},
   "outputs": [
    {
     "data": {
      "text/plain": [
       "['Xello', 'HMLPA']"
      ]
     },
     "execution_count": 65,
     "metadata": {},
     "output_type": "execute_result"
    }
   ],
   "source": [
    "#split by a blank space - default value\n",
    "s.split()"
   ]
  },
  {
   "cell_type": "code",
   "execution_count": 67,
   "id": "76114a61",
   "metadata": {},
   "outputs": [
    {
     "data": {
      "text/plain": [
       "['XE', '', 'O HM', 'PA']"
      ]
     },
     "execution_count": 67,
     "metadata": {},
     "output_type": "execute_result"
    }
   ],
   "source": [
    "#split by a specific element\n",
    "t.split('L')"
   ]
  },
  {
   "cell_type": "code",
   "execution_count": 72,
   "id": "f5bd0a5c",
   "metadata": {},
   "outputs": [
    {
     "data": {
      "text/plain": [
       "'yahoo'"
      ]
     },
     "execution_count": 72,
     "metadata": {},
     "output_type": "execute_result"
    }
   ],
   "source": [
    "email = 'rohit@yahoo.com'\n",
    "email.split('@')[1].split('.')[0]"
   ]
  },
  {
   "cell_type": "markdown",
   "id": "93ff7bcf",
   "metadata": {},
   "source": [
    "### Print Formatting"
   ]
  },
  {
   "cell_type": "code",
   "execution_count": 5,
   "id": "25add1a8",
   "metadata": {},
   "outputs": [
    {
     "data": {
      "text/plain": [
       "'Insert another string with curly brackets: The inserted string'"
      ]
     },
     "execution_count": 5,
     "metadata": {},
     "output_type": "execute_result"
    }
   ],
   "source": [
    "'Insert another string with curly brackets: {}'.format('The inserted string')"
   ]
  },
  {
   "cell_type": "code",
   "execution_count": 6,
   "id": "db09efe6",
   "metadata": {},
   "outputs": [
    {
     "name": "stdout",
     "output_type": "stream",
     "text": [
      "The result came out. I scored 98 and my percentage was 65.33333333333333\n"
     ]
    }
   ],
   "source": [
    "marks = 98\n",
    "percentage = marks*100/150\n",
    "\n",
    "print('The result came out. I scored {s} and my percentage was {r}'.format(r= percentage, s= marks))"
   ]
  },
  {
   "cell_type": "code",
   "execution_count": 7,
   "id": "230eabfa",
   "metadata": {},
   "outputs": [
    {
     "data": {
      "text/plain": [
       "'The result came out. I scored 98 and my percentage was 65.33333333333333'"
      ]
     },
     "execution_count": 7,
     "metadata": {},
     "output_type": "execute_result"
    }
   ],
   "source": [
    "#formatted string literals (introduced in python 3.6)\n",
    "f'The result came out. I scored {marks} and my percentage was {percentage}'"
   ]
  },
  {
   "cell_type": "code",
   "execution_count": 8,
   "id": "0c15cb57",
   "metadata": {},
   "outputs": [
    {
     "ename": "SyntaxError",
     "evalue": "unterminated string literal (detected at line 1) (1441607296.py, line 1)",
     "output_type": "error",
     "traceback": [
      "\u001b[0;36m  Cell \u001b[0;32mIn[8], line 1\u001b[0;36m\u001b[0m\n\u001b[0;31m    'I'm <name. and my instructor is <ins_name> and i'm taking course <course_name> in association with <institute name> and <company_name>\u001b[0m\n\u001b[0m                                                     ^\u001b[0m\n\u001b[0;31mSyntaxError\u001b[0m\u001b[0;31m:\u001b[0m unterminated string literal (detected at line 1)\n"
     ]
    }
   ],
   "source": [
    "'I'm <name. and my instructor is <ins_name> and i'm taking course <course_name> in association with <institute name> and <company_name>"
   ]
  },
  {
   "cell_type": "code",
   "execution_count": null,
   "id": "46d6c6c3",
   "metadata": {},
   "outputs": [],
   "source": []
  }
 ],
 "metadata": {
  "kernelspec": {
   "display_name": "Python 3 (ipykernel)",
   "language": "python",
   "name": "python3"
  },
  "language_info": {
   "codemirror_mode": {
    "name": "ipython",
    "version": 3
   },
   "file_extension": ".py",
   "mimetype": "text/x-python",
   "name": "python",
   "nbconvert_exporter": "python",
   "pygments_lexer": "ipython3",
   "version": "3.11.5"
  }
 },
 "nbformat": 4,
 "nbformat_minor": 5
}
