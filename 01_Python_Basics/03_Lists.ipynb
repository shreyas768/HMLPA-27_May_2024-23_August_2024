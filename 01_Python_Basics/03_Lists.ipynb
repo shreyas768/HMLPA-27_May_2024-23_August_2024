{
 "cells": [
  {
   "cell_type": "code",
   "execution_count": 1,
   "id": "fe821b4e",
   "metadata": {},
   "outputs": [],
   "source": [
    "mylst = [1,2,3]"
   ]
  },
  {
   "cell_type": "code",
   "execution_count": 138,
   "id": "bd749ef4",
   "metadata": {},
   "outputs": [
    {
     "data": {
      "text/plain": [
       "list"
      ]
     },
     "execution_count": 138,
     "metadata": {},
     "output_type": "execute_result"
    }
   ],
   "source": [
    "type(mylst)"
   ]
  },
  {
   "cell_type": "code",
   "execution_count": 3,
   "id": "628c5086",
   "metadata": {},
   "outputs": [],
   "source": [
    "mylst1 = ['hello',3.4,'5',5,[23,'Shreyas']]"
   ]
  },
  {
   "cell_type": "code",
   "execution_count": 140,
   "id": "b6dd5cf4",
   "metadata": {},
   "outputs": [
    {
     "data": {
      "text/plain": [
       "3"
      ]
     },
     "execution_count": 140,
     "metadata": {},
     "output_type": "execute_result"
    }
   ],
   "source": [
    "len(mylst)"
   ]
  },
  {
   "cell_type": "code",
   "execution_count": 141,
   "id": "5e14262e",
   "metadata": {},
   "outputs": [
    {
     "data": {
      "text/plain": [
       "5"
      ]
     },
     "execution_count": 141,
     "metadata": {},
     "output_type": "execute_result"
    }
   ],
   "source": [
    "len(mylst1)"
   ]
  },
  {
   "cell_type": "markdown",
   "id": "02cc0e56",
   "metadata": {},
   "source": [
    "### Indexing and Slicing"
   ]
  },
  {
   "cell_type": "code",
   "execution_count": 4,
   "id": "7e47879c",
   "metadata": {},
   "outputs": [
    {
     "data": {
      "text/plain": [
       "'hello'"
      ]
     },
     "execution_count": 4,
     "metadata": {},
     "output_type": "execute_result"
    }
   ],
   "source": [
    "mylst1[0]"
   ]
  },
  {
   "cell_type": "code",
   "execution_count": 5,
   "id": "f242cd97",
   "metadata": {},
   "outputs": [
    {
     "data": {
      "text/plain": [
       "[3.4, '5', 5, [23, 'Shreyas']]"
      ]
     },
     "execution_count": 5,
     "metadata": {},
     "output_type": "execute_result"
    }
   ],
   "source": [
    "mylst1[1:]"
   ]
  },
  {
   "cell_type": "code",
   "execution_count": 144,
   "id": "565abe6a",
   "metadata": {},
   "outputs": [
    {
     "data": {
      "text/plain": [
       "[3.4, '5', 5]"
      ]
     },
     "execution_count": 144,
     "metadata": {},
     "output_type": "execute_result"
    }
   ],
   "source": [
    "mylst1[1:4]"
   ]
  },
  {
   "cell_type": "code",
   "execution_count": 145,
   "id": "edd582ea",
   "metadata": {},
   "outputs": [
    {
     "data": {
      "text/plain": [
       "'hell'"
      ]
     },
     "execution_count": 145,
     "metadata": {},
     "output_type": "execute_result"
    }
   ],
   "source": [
    "mylst1[0][:-1]"
   ]
  },
  {
   "cell_type": "code",
   "execution_count": 146,
   "id": "7dc7d0e8",
   "metadata": {},
   "outputs": [
    {
     "data": {
      "text/plain": [
       "['hello', 3.4, '5', 5, [23, 'Shreyas']]"
      ]
     },
     "execution_count": 146,
     "metadata": {},
     "output_type": "execute_result"
    }
   ],
   "source": [
    "mylst1"
   ]
  },
  {
   "cell_type": "code",
   "execution_count": 147,
   "id": "240b9c57",
   "metadata": {},
   "outputs": [
    {
     "data": {
      "text/plain": [
       "'Shrey'"
      ]
     },
     "execution_count": 147,
     "metadata": {},
     "output_type": "execute_result"
    }
   ],
   "source": [
    "mylst1[-1][-1][:-2]"
   ]
  },
  {
   "cell_type": "code",
   "execution_count": 148,
   "id": "4634a410",
   "metadata": {},
   "outputs": [
    {
     "data": {
      "text/plain": [
       "str"
      ]
     },
     "execution_count": 148,
     "metadata": {},
     "output_type": "execute_result"
    }
   ],
   "source": [
    "type(mylst1[-1][-1])"
   ]
  },
  {
   "cell_type": "code",
   "execution_count": 149,
   "id": "ae2222fd",
   "metadata": {},
   "outputs": [
    {
     "data": {
      "text/plain": [
       "'string1 string2'"
      ]
     },
     "execution_count": 149,
     "metadata": {},
     "output_type": "execute_result"
    }
   ],
   "source": [
    "#concatenation\n",
    "'string1' + ' ' + 'string2'"
   ]
  },
  {
   "cell_type": "code",
   "execution_count": 150,
   "id": "b0ec64a9",
   "metadata": {},
   "outputs": [
    {
     "data": {
      "text/plain": [
       "[1, 2, 3, 4]"
      ]
     },
     "execution_count": 150,
     "metadata": {},
     "output_type": "execute_result"
    }
   ],
   "source": [
    "mylst + [4]"
   ]
  },
  {
   "cell_type": "code",
   "execution_count": 151,
   "id": "4bc23d8b",
   "metadata": {},
   "outputs": [
    {
     "data": {
      "text/plain": [
       "[1, 2, 3, [4, 5]]"
      ]
     },
     "execution_count": 151,
     "metadata": {},
     "output_type": "execute_result"
    }
   ],
   "source": [
    "mylst + [[4,5]]"
   ]
  },
  {
   "cell_type": "code",
   "execution_count": 152,
   "id": "51cdeb35",
   "metadata": {},
   "outputs": [
    {
     "data": {
      "text/plain": [
       "[1, 2, 3, 1, 2, 3]"
      ]
     },
     "execution_count": 152,
     "metadata": {},
     "output_type": "execute_result"
    }
   ],
   "source": [
    "mylst*2"
   ]
  },
  {
   "cell_type": "markdown",
   "id": "dedd7d52",
   "metadata": {},
   "source": [
    "#### re-assignments (lists are mutable)"
   ]
  },
  {
   "cell_type": "code",
   "execution_count": 153,
   "id": "549aa8b8",
   "metadata": {},
   "outputs": [],
   "source": [
    "mylst[0] = 'one'"
   ]
  },
  {
   "cell_type": "code",
   "execution_count": 154,
   "id": "b864ccf5",
   "metadata": {},
   "outputs": [
    {
     "data": {
      "text/plain": [
       "['one', 2, 3]"
      ]
     },
     "execution_count": 154,
     "metadata": {},
     "output_type": "execute_result"
    }
   ],
   "source": [
    "mylst"
   ]
  },
  {
   "cell_type": "code",
   "execution_count": 155,
   "id": "7b345d4a",
   "metadata": {},
   "outputs": [],
   "source": [
    "prac_list = [12.3,[45.6,['hello at IIT Roorkee']], '45', 98, 'iHUB', ['Steve Jobs'], 'works', 32]"
   ]
  },
  {
   "cell_type": "markdown",
   "id": "c35c4f3c",
   "metadata": {},
   "source": [
    "1. 12.3 + 98\n",
    "2. 'Steve Jobs works at iHUB'\n",
    "3. replace 32 by <your name>\n",
    "4. 'hello Shreyas'\n",
    "    \n"
   ]
  },
  {
   "cell_type": "code",
   "execution_count": 156,
   "id": "d00f21a5",
   "metadata": {},
   "outputs": [
    {
     "data": {
      "text/plain": [
       "110.3"
      ]
     },
     "execution_count": 156,
     "metadata": {},
     "output_type": "execute_result"
    }
   ],
   "source": [
    "prac_list[0]+prac_list[3]"
   ]
  },
  {
   "cell_type": "code",
   "execution_count": 157,
   "id": "91ad436c",
   "metadata": {},
   "outputs": [
    {
     "data": {
      "text/plain": [
       "'Steve Jobs works at iHUB'"
      ]
     },
     "execution_count": 157,
     "metadata": {},
     "output_type": "execute_result"
    }
   ],
   "source": [
    "prac_list[-3][0]+ ' '+prac_list[-2]+ prac_list[1][-1][0][5:9]+prac_list[-4]"
   ]
  },
  {
   "cell_type": "code",
   "execution_count": 158,
   "id": "1f12e72e",
   "metadata": {},
   "outputs": [
    {
     "data": {
      "text/plain": [
       "'Steve Jobs works at iHUB'"
      ]
     },
     "execution_count": 158,
     "metadata": {},
     "output_type": "execute_result"
    }
   ],
   "source": [
    "prac_list[-3][-1] + ' '+ prac_list[6]+prac_list[1][1][-1][5:9]+prac_list[4]"
   ]
  },
  {
   "cell_type": "code",
   "execution_count": 159,
   "id": "5329fd91",
   "metadata": {},
   "outputs": [],
   "source": [
    "prac_list[-1] = 'Shreyas'"
   ]
  },
  {
   "cell_type": "code",
   "execution_count": 160,
   "id": "475bdb26",
   "metadata": {},
   "outputs": [
    {
     "data": {
      "text/plain": [
       "'hello Shreyas'"
      ]
     },
     "execution_count": 160,
     "metadata": {},
     "output_type": "execute_result"
    }
   ],
   "source": [
    "prac_list[1][-1][-1][:6]+prac_list[-1]"
   ]
  },
  {
   "cell_type": "code",
   "execution_count": 161,
   "id": "19715bc6",
   "metadata": {},
   "outputs": [],
   "source": [
    "prac_list2 = [[98,[34.8,['hello world']],'Elon',[['Musk'],'Shreyas']], 'controls', 404, 747]"
   ]
  },
  {
   "cell_type": "markdown",
   "id": "1b84c51f",
   "metadata": {},
   "source": [
    "1. 'HELLO Elon Musk'\n",
    "2. do a division of any two numbers from prac_list2 and mulitply it with addition the other two numbers\n",
    "3. replace 'Shreyas' with 'everyone'\n",
    "4. 'Elon Musk controls everyone'\n"
   ]
  },
  {
   "cell_type": "code",
   "execution_count": 162,
   "id": "e9e9d822",
   "metadata": {},
   "outputs": [],
   "source": [
    "x = prac_list2[0]"
   ]
  },
  {
   "cell_type": "code",
   "execution_count": 163,
   "id": "18200826",
   "metadata": {},
   "outputs": [
    {
     "data": {
      "text/plain": [
       "'HELLO Elon Musk'"
      ]
     },
     "execution_count": 163,
     "metadata": {},
     "output_type": "execute_result"
    }
   ],
   "source": [
    "x[1][-1][0][:6].upper()+x[2]+ ' ' +x[3][0][0]"
   ]
  },
  {
   "cell_type": "code",
   "execution_count": 164,
   "id": "e1d68e2a",
   "metadata": {},
   "outputs": [
    {
     "data": {
      "text/plain": [
       "'HELLO Elon Musk'"
      ]
     },
     "execution_count": 164,
     "metadata": {},
     "output_type": "execute_result"
    }
   ],
   "source": [
    "prac_list2[0][1][-1][0][:6].upper()+prac_list2[0][2]+ ' ' +prac_list2[0][3][0][0]"
   ]
  },
  {
   "cell_type": "code",
   "execution_count": 165,
   "id": "a6fdceb6",
   "metadata": {},
   "outputs": [
    {
     "data": {
      "text/plain": [
       "245.54851485148518"
      ]
     },
     "execution_count": 165,
     "metadata": {},
     "output_type": "execute_result"
    }
   ],
   "source": [
    "(prac_list2[-1]/prac_list2[-2])*(prac_list2[0][0]+prac_list2[0][1][0])"
   ]
  },
  {
   "cell_type": "code",
   "execution_count": 166,
   "id": "ef8f9815",
   "metadata": {},
   "outputs": [],
   "source": [
    "prac_list2[0][-1][-1] = 'everyone'"
   ]
  },
  {
   "cell_type": "code",
   "execution_count": 167,
   "id": "505086bc",
   "metadata": {},
   "outputs": [
    {
     "data": {
      "text/plain": [
       "[[98, [34.8, ['hello world']], 'Elon', [['Musk'], 'everyone']],\n",
       " 'controls',\n",
       " 404,\n",
       " 747]"
      ]
     },
     "execution_count": 167,
     "metadata": {},
     "output_type": "execute_result"
    }
   ],
   "source": [
    "prac_list2"
   ]
  },
  {
   "cell_type": "code",
   "execution_count": 168,
   "id": "3beb79fe",
   "metadata": {},
   "outputs": [
    {
     "data": {
      "text/plain": [
       "'Elon Musk controls everyone'"
      ]
     },
     "execution_count": 168,
     "metadata": {},
     "output_type": "execute_result"
    }
   ],
   "source": [
    "prac_list2[0][2]+' '+prac_list2[0][-1][0][0]+' '+prac_list2[-3]+' '+prac_list2[0][-1][-1]"
   ]
  },
  {
   "cell_type": "code",
   "execution_count": 169,
   "id": "981b5df6",
   "metadata": {},
   "outputs": [
    {
     "data": {
      "text/plain": [
       "[98, [34.8, ['hello world']], 'Elon', [['Musk'], 'everyone']]"
      ]
     },
     "execution_count": 169,
     "metadata": {},
     "output_type": "execute_result"
    }
   ],
   "source": [
    "x"
   ]
  },
  {
   "cell_type": "markdown",
   "id": "5b04d624",
   "metadata": {},
   "source": [
    "### List Methods"
   ]
  },
  {
   "cell_type": "code",
   "execution_count": 170,
   "id": "32187ce6",
   "metadata": {},
   "outputs": [],
   "source": [
    "lst = [1,2,3]"
   ]
  },
  {
   "cell_type": "code",
   "execution_count": 171,
   "id": "85b094e8",
   "metadata": {},
   "outputs": [],
   "source": [
    "#append\n",
    "lst.append('appended item')"
   ]
  },
  {
   "cell_type": "code",
   "execution_count": 172,
   "id": "c229e00c",
   "metadata": {},
   "outputs": [
    {
     "data": {
      "text/plain": [
       "[1, 2, 3, 'appended item']"
      ]
     },
     "execution_count": 172,
     "metadata": {},
     "output_type": "execute_result"
    }
   ],
   "source": [
    "lst"
   ]
  },
  {
   "cell_type": "code",
   "execution_count": 173,
   "id": "cf28529c",
   "metadata": {},
   "outputs": [],
   "source": [
    "lst.append([2,3,4,5])"
   ]
  },
  {
   "cell_type": "code",
   "execution_count": 174,
   "id": "33fce491",
   "metadata": {},
   "outputs": [
    {
     "data": {
      "text/plain": [
       "[1, 2, 3, 'appended item', [2, 3, 4, 5]]"
      ]
     },
     "execution_count": 174,
     "metadata": {},
     "output_type": "execute_result"
    }
   ],
   "source": [
    "lst"
   ]
  },
  {
   "cell_type": "code",
   "execution_count": 175,
   "id": "93af2eca",
   "metadata": {},
   "outputs": [
    {
     "data": {
      "text/plain": [
       "3"
      ]
     },
     "execution_count": 175,
     "metadata": {},
     "output_type": "execute_result"
    }
   ],
   "source": [
    "#pop\n",
    "lst.pop(-3)"
   ]
  },
  {
   "cell_type": "code",
   "execution_count": 176,
   "id": "44c8e951",
   "metadata": {},
   "outputs": [
    {
     "data": {
      "text/plain": [
       "[1, 2, 'appended item', [2, 3, 4, 5]]"
      ]
     },
     "execution_count": 176,
     "metadata": {},
     "output_type": "execute_result"
    }
   ],
   "source": [
    "lst"
   ]
  },
  {
   "cell_type": "code",
   "execution_count": 177,
   "id": "694c60d3",
   "metadata": {},
   "outputs": [],
   "source": [
    "y = lst.pop(-1)"
   ]
  },
  {
   "cell_type": "code",
   "execution_count": 178,
   "id": "dfb6d842",
   "metadata": {},
   "outputs": [
    {
     "data": {
      "text/plain": [
       "[2, 3, 4, 5]"
      ]
     },
     "execution_count": 178,
     "metadata": {},
     "output_type": "execute_result"
    }
   ],
   "source": [
    "y"
   ]
  },
  {
   "cell_type": "code",
   "execution_count": 180,
   "id": "7d49b102",
   "metadata": {},
   "outputs": [
    {
     "ename": "IndexError",
     "evalue": "list index out of range",
     "output_type": "error",
     "traceback": [
      "\u001b[0;31m---------------------------------------------------------------------------\u001b[0m",
      "\u001b[0;31mIndexError\u001b[0m                                Traceback (most recent call last)",
      "Cell \u001b[0;32mIn[180], line 1\u001b[0m\n\u001b[0;32m----> 1\u001b[0m lst[\u001b[38;5;241m8\u001b[39m]\n",
      "\u001b[0;31mIndexError\u001b[0m: list index out of range"
     ]
    }
   ],
   "source": [
    "lst[8]"
   ]
  },
  {
   "cell_type": "code",
   "execution_count": null,
   "id": "0c712831",
   "metadata": {},
   "outputs": [],
   "source": [
    "#reverse\n",
    "alphabet = ['t','o','aa','ab','a','z','az','aaa','p']"
   ]
  },
  {
   "cell_type": "code",
   "execution_count": null,
   "id": "932696e9",
   "metadata": {},
   "outputs": [],
   "source": [
    "alphabet.reverse()"
   ]
  },
  {
   "cell_type": "code",
   "execution_count": null,
   "id": "feb8e0d0",
   "metadata": {},
   "outputs": [],
   "source": [
    "alphabet"
   ]
  },
  {
   "cell_type": "code",
   "execution_count": null,
   "id": "4e4ae41f",
   "metadata": {},
   "outputs": [],
   "source": [
    "alphabet.sort()"
   ]
  },
  {
   "cell_type": "code",
   "execution_count": null,
   "id": "40a236a1",
   "metadata": {},
   "outputs": [],
   "source": [
    "alphabet"
   ]
  },
  {
   "cell_type": "code",
   "execution_count": null,
   "id": "d7ded698",
   "metadata": {},
   "outputs": [],
   "source": [
    "numbr1 = [23,54,12,989,564]\n",
    "numbr1.sort(reverse=True)"
   ]
  },
  {
   "cell_type": "code",
   "execution_count": null,
   "id": "fd58822c",
   "metadata": {},
   "outputs": [],
   "source": [
    "numbr1"
   ]
  },
  {
   "cell_type": "code",
   "execution_count": null,
   "id": "d3599232",
   "metadata": {},
   "outputs": [],
   "source": [
    "ty = numbr1.sort(reverse=True)"
   ]
  },
  {
   "cell_type": "code",
   "execution_count": null,
   "id": "a33be2b0",
   "metadata": {},
   "outputs": [],
   "source": [
    "ty"
   ]
  },
  {
   "cell_type": "code",
   "execution_count": null,
   "id": "f6e96077",
   "metadata": {},
   "outputs": [],
   "source": [
    "type(ty)"
   ]
  },
  {
   "cell_type": "code",
   "execution_count": null,
   "id": "1463c7e2",
   "metadata": {},
   "outputs": [],
   "source": [
    "x = [1,2,3]"
   ]
  },
  {
   "cell_type": "code",
   "execution_count": null,
   "id": "63eb47c9",
   "metadata": {},
   "outputs": [],
   "source": [
    "type(x)"
   ]
  },
  {
   "cell_type": "code",
   "execution_count": null,
   "id": "7396e244",
   "metadata": {},
   "outputs": [],
   "source": [
    "x"
   ]
  },
  {
   "cell_type": "code",
   "execution_count": null,
   "id": "35b150ec",
   "metadata": {},
   "outputs": [],
   "source": []
  }
 ],
 "metadata": {
  "kernelspec": {
   "display_name": "Python 3 (ipykernel)",
   "language": "python",
   "name": "python3"
  },
  "language_info": {
   "codemirror_mode": {
    "name": "ipython",
    "version": 3
   },
   "file_extension": ".py",
   "mimetype": "text/x-python",
   "name": "python",
   "nbconvert_exporter": "python",
   "pygments_lexer": "ipython3",
   "version": "3.11.5"
  }
 },
 "nbformat": 4,
 "nbformat_minor": 5
}
